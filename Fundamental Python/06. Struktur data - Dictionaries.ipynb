{
 "cells": [
  {
   "cell_type": "markdown",
   "metadata": {},
   "source": [
    "## Dictionaries"
   ]
  },
  {
   "cell_type": "markdown",
   "metadata": {},
   "source": [
    "- Dictionaries merupakan sebuah struktur data yang berbentuk seperti kamus\n",
    "- Koleksi tidak urut/ tidak memilik urutan\n",
    "- Pengambilan item/ akses menggunakan \"key\"\n",
    "- Mutable/ bisa di edit"
   ]
  },
  {
   "cell_type": "markdown",
   "metadata": {},
   "source": [
    "- Memiliki kata kunci dan isi\n",
    "- {key : value/ item}\n",
    "- menggunakan kurung kurawal {}"
   ]
  },
  {
   "cell_type": "markdown",
   "metadata": {},
   "source": [
    "##### General"
   ]
  },
  {
   "cell_type": "markdown",
   "metadata": {},
   "source": [
    "- tidak boleh memiliki key yg sama\n",
    "- tidak akan error tapi akan random key"
   ]
  },
  {
   "cell_type": "code",
   "execution_count": 2,
   "metadata": {},
   "outputs": [
    {
     "name": "stdout",
     "output_type": "stream",
     "text": [
      "{'sayur': 'bayam', 'buah': 'nanas', 'protein': ['hewani', 'nabati']}\n"
     ]
    }
   ],
   "source": [
    "makanan = {\"sayur\" : \"bayam\",\n",
    "           \"buah\" : \"nanas\", \n",
    "           \"protein\" : [\"hewani\", \"nabati\"]}\n",
    "\n",
    "print(makanan)"
   ]
  },
  {
   "cell_type": "code",
   "execution_count": 3,
   "metadata": {},
   "outputs": [
    {
     "data": {
      "text/plain": [
       "'bayam'"
      ]
     },
     "execution_count": 3,
     "metadata": {},
     "output_type": "execute_result"
    }
   ],
   "source": [
    "makanan[\"sayur\"]"
   ]
  },
  {
   "cell_type": "code",
   "execution_count": 4,
   "metadata": {},
   "outputs": [
    {
     "data": {
      "text/plain": [
       "'nanas'"
      ]
     },
     "execution_count": 4,
     "metadata": {},
     "output_type": "execute_result"
    }
   ],
   "source": [
    "makanan.get(\"buah\")"
   ]
  },
  {
   "cell_type": "code",
   "execution_count": 6,
   "metadata": {},
   "outputs": [
    {
     "data": {
      "text/plain": [
       "'tidak ada key'"
      ]
     },
     "execution_count": 6,
     "metadata": {},
     "output_type": "execute_result"
    }
   ],
   "source": [
    "makanan.get(\"jus\", \"tidak ada key\")"
   ]
  },
  {
   "cell_type": "markdown",
   "metadata": {},
   "source": [
    "##### Didefinisikan sebagai fungsi"
   ]
  },
  {
   "cell_type": "code",
   "execution_count": 4,
   "metadata": {},
   "outputs": [
    {
     "name": "stdout",
     "output_type": "stream",
     "text": [
      "{'nama': 'dono', 'pekerjaan': 'bisnis', 'umur': 26}\n"
     ]
    }
   ],
   "source": [
    "biodata = dict(nama = \"dono\",\n",
    "              pekerjaan = \"bisnis\",\n",
    "              umur = 26)\n",
    "\n",
    "print(biodata)"
   ]
  },
  {
   "cell_type": "markdown",
   "metadata": {},
   "source": [
    "##### Menggunakan zip"
   ]
  },
  {
   "cell_type": "code",
   "execution_count": 6,
   "metadata": {},
   "outputs": [
    {
     "name": "stdout",
     "output_type": "stream",
     "text": [
      "{'nama': 'delta', 'status': 'negeri', 'alamat': 'cirendeu'}\n"
     ]
    }
   ],
   "source": [
    "sekolah = dict(zip([\"nama\", \"status\", \"alamat\"],\n",
    "                  [\"delta\", \"negeri\", \"cirendeu\"]))\n",
    "\n",
    "print(sekolah)"
   ]
  },
  {
   "cell_type": "markdown",
   "metadata": {},
   "source": [
    "**Di dalam dictionary kebanyakan menggunakan yang General**"
   ]
  },
  {
   "cell_type": "markdown",
   "metadata": {},
   "source": [
    "### Nested Dictionaries"
   ]
  },
  {
   "cell_type": "code",
   "execution_count": 10,
   "metadata": {},
   "outputs": [
    {
     "name": "stdout",
     "output_type": "stream",
     "text": [
      "{'asia': {'asia_selatan': ['indonesia'], 'asia_timur': ['jepang']}, 'eropa': ['italia', 'jerman']}\n"
     ]
    }
   ],
   "source": [
    "negara = {\"asia\" : {\"asia_selatan\" : [\"indonesia\"],\n",
    "                    \"asia_timur\" : [\"jepang\"]},\n",
    "         \"eropa\" : [\"italia\", \"jerman\"]}\n",
    "\n",
    "print(negara)"
   ]
  },
  {
   "cell_type": "markdown",
   "metadata": {},
   "source": [
    "### Metode di dalam Dictionary"
   ]
  },
  {
   "cell_type": "markdown",
   "metadata": {},
   "source": [
    "#### items, keys & values"
   ]
  },
  {
   "cell_type": "code",
   "execution_count": 7,
   "metadata": {},
   "outputs": [],
   "source": [
    "teman = {\"wildan\" : \"smart\",\n",
    "        \"ale\" : \"leader\",\n",
    "        \"bimo\" : \"pemabuk\"}"
   ]
  },
  {
   "cell_type": "code",
   "execution_count": 22,
   "metadata": {},
   "outputs": [
    {
     "data": {
      "text/plain": [
       "{'wildan': 'smart', 'ale': 'leader', 'bimo': 'pemabuk'}"
      ]
     },
     "execution_count": 22,
     "metadata": {},
     "output_type": "execute_result"
    }
   ],
   "source": [
    "teman"
   ]
  },
  {
   "cell_type": "code",
   "execution_count": 37,
   "metadata": {},
   "outputs": [
    {
     "data": {
      "text/plain": [
       "dict_items([('wildan', 'smart'), ('ale', 'leader'), ('bimo', 'pemabuk')])"
      ]
     },
     "execution_count": 37,
     "metadata": {},
     "output_type": "execute_result"
    }
   ],
   "source": [
    "# menampilkan key & value\n",
    "\n",
    "teman.items() "
   ]
  },
  {
   "cell_type": "code",
   "execution_count": 25,
   "metadata": {},
   "outputs": [
    {
     "name": "stdout",
     "output_type": "stream",
     "text": [
      "dict_keys(['wildan', 'ale', 'bimo'])\n"
     ]
    }
   ],
   "source": [
    "# menampilkan seluruh key\n",
    "\n",
    "print(teman.keys()) "
   ]
  },
  {
   "cell_type": "code",
   "execution_count": 26,
   "metadata": {},
   "outputs": [
    {
     "name": "stdout",
     "output_type": "stream",
     "text": [
      "dict_keys(['wildan', 'ale', 'bimo'])\n"
     ]
    }
   ],
   "source": [
    "kay = teman.keys()\n",
    "print(kay)"
   ]
  },
  {
   "cell_type": "code",
   "execution_count": 15,
   "metadata": {},
   "outputs": [
    {
     "name": "stdout",
     "output_type": "stream",
     "text": [
      "wildan\n",
      "ale\n",
      "bimo\n"
     ]
    }
   ],
   "source": [
    "for q in kay:\n",
    "    print(q)"
   ]
  },
  {
   "cell_type": "code",
   "execution_count": 11,
   "metadata": {},
   "outputs": [
    {
     "data": {
      "text/plain": [
       "dict_values(['smart', 'leader', 'pemabuk'])"
      ]
     },
     "execution_count": 11,
     "metadata": {},
     "output_type": "execute_result"
    }
   ],
   "source": [
    "# menampilkan seluruh value\n",
    "\n",
    "teman.values() "
   ]
  },
  {
   "cell_type": "code",
   "execution_count": 5,
   "metadata": {},
   "outputs": [
    {
     "data": {
      "text/plain": [
       "'smart'"
      ]
     },
     "execution_count": 5,
     "metadata": {},
     "output_type": "execute_result"
    }
   ],
   "source": [
    "teman[\"wildan\"]"
   ]
  },
  {
   "cell_type": "code",
   "execution_count": 1,
   "metadata": {},
   "outputs": [
    {
     "name": "stdout",
     "output_type": "stream",
     "text": [
      "Ibukota spain adalah madrid\n",
      "Ibukota france adalah paris\n",
      "Ibukota germany adalah berlin\n",
      "Ibukota norway adalah oslo\n",
      "Ibukota indonesia adalah jakarta\n"
     ]
    }
   ],
   "source": [
    "country = { \n",
    "           'spain': { 'capital':'madrid', 'population':46.77 },\n",
    "           'france': { 'capital':'paris', 'population':66.03 },\n",
    "           'germany': { 'capital':'berlin', 'population':80.62 },\n",
    "           'norway': { 'capital':'oslo', 'population':5.084 },\n",
    "           'indonesia' : {'capital':'jakarta', 'population':250}\n",
    "         }\n",
    "\n",
    "for i, y in country.items():\n",
    "    print('Ibukota '+ i +' adalah '+ y[\"capital\"])"
   ]
  },
  {
   "cell_type": "markdown",
   "metadata": {},
   "source": [
    "#### update & pop"
   ]
  },
  {
   "cell_type": "code",
   "execution_count": 41,
   "metadata": {},
   "outputs": [
    {
     "data": {
      "text/plain": [
       "{'wildan': 'smart', 'ale': 'leader', 'bimo': 'pemabuk'}"
      ]
     },
     "execution_count": 41,
     "metadata": {},
     "output_type": "execute_result"
    }
   ],
   "source": [
    "teman"
   ]
  },
  {
   "cell_type": "code",
   "execution_count": 43,
   "metadata": {},
   "outputs": [
    {
     "data": {
      "text/plain": [
       "{'wildan': 'smart', 'ale': 'gondrong', 'bimo': 'petarung', 'guntur': 'coki'}"
      ]
     },
     "execution_count": 43,
     "metadata": {},
     "output_type": "execute_result"
    }
   ],
   "source": [
    "teman.update({\"bimo\":\"petarung\", \"ale\":\"gondrong\", \"guntur\":\"coki\"})\n",
    "teman"
   ]
  },
  {
   "cell_type": "code",
   "execution_count": 1,
   "metadata": {},
   "outputs": [
    {
     "name": "stdout",
     "output_type": "stream",
     "text": [
      "{'twenty': 10, 'thirty': 20, 'ten': 30}\n"
     ]
    }
   ],
   "source": [
    "alphabet = {\"ten\", \"twenty\", \"thirty\"}\n",
    "number = [10, 20, 30]\n",
    "\n",
    "data = dict(zip(alphabet,number))  # zip ==>> menyatukan 2 variabel\n",
    "\n",
    "print(data)"
   ]
  },
  {
   "cell_type": "code",
   "execution_count": 1,
   "metadata": {},
   "outputs": [
    {
     "name": "stdout",
     "output_type": "stream",
     "text": [
      "Physics\n"
     ]
    }
   ],
   "source": [
    "nilai = {\n",
    "  'Physics': 12,\n",
    "  'Math': 65,\n",
    "  'history': 75\n",
    "}\n",
    "\n",
    "print(min(nilai, key = nilai.get)) # menampilkan nilai minimal dari dict diatas"
   ]
  },
  {
   "cell_type": "code",
   "execution_count": 3,
   "metadata": {},
   "outputs": [
    {
     "name": "stdout",
     "output_type": "stream",
     "text": [
      "{'class': {'student': {'name': 'mike', 'marks': {'physics': 70, 'history': 80}}}}\n",
      "80\n"
     ]
    }
   ],
   "source": [
    "database = {\"class\" : {\"student\" : {\"name\" : \"mike\", \"marks\" : {\"physics\" : 70, \"history\" : 80}}}}\n",
    "\n",
    "print(database)\n",
    "print(database[\"class\"][\"student\"][\"marks\"][\"history\"]) # mengambil nilai di dalamnya"
   ]
  },
  {
   "cell_type": "code",
   "execution_count": 44,
   "metadata": {},
   "outputs": [
    {
     "name": "stdout",
     "output_type": "stream",
     "text": [
      "{'name': 'kelly', 'age': 34, 'salary': 900, 'location': 'new york'}\n"
     ]
    }
   ],
   "source": [
    "data = {\"name\" : \"kelly\",\n",
    "       \"age\" : 34,\n",
    "       \"salary\" : 900,\n",
    "       \"city\" : \"new york\"}\n",
    "\n",
    "data[\"location\"] = data.pop(\"city\") # mengganti \"city\" dengan \"location\"\n",
    "print(data)"
   ]
  },
  {
   "cell_type": "code",
   "execution_count": 48,
   "metadata": {},
   "outputs": [
    {
     "data": {
      "text/plain": [
       "'error'"
      ]
     },
     "execution_count": 48,
     "metadata": {},
     "output_type": "execute_result"
    }
   ],
   "source": [
    "datapop = data.pop(\"alamat\", \"error\")\n",
    "datapop"
   ]
  },
  {
   "cell_type": "code",
   "execution_count": 49,
   "metadata": {},
   "outputs": [
    {
     "name": "stdout",
     "output_type": "stream",
     "text": [
      "{'emp1': {'nama': 'iky', 'salary': 7000}, 'emp2': {'nama': 'bagus', 'salary': 5000}, 'emp3': {'nama': 'nisa', 'salary': 6000}}\n"
     ]
    }
   ],
   "source": [
    "base = {\n",
    "    \"emp1\" : {\"nama\" : \"iky\", \"salary\" : 7000},\n",
    "    \"emp2\" : {\"nama\" : \"bagus\", \"salary\" : 5000},\n",
    "    \"emp3\" : {\"nama\" : \"nisa\", \"salary\" : 4000}\n",
    "    }\n",
    "\n",
    "base[\"emp3\"][\"salary\"] = 6000 # mengganti value dalam \"emp3\" \"salary\"\n",
    "print(base)"
   ]
  },
  {
   "cell_type": "code",
   "execution_count": 50,
   "metadata": {},
   "outputs": [
    {
     "data": {
      "text/plain": [
       "{'name': 'kelly',\n",
       " 'age': 34,\n",
       " 'salary': 900,\n",
       " 'location': 'new york',\n",
       " 'emp1': {'nama': 'iky', 'salary': 7000},\n",
       " 'emp2': {'nama': 'bagus', 'salary': 5000},\n",
       " 'emp3': {'nama': 'nisa', 'salary': 6000}}"
      ]
     },
     "execution_count": 50,
     "metadata": {},
     "output_type": "execute_result"
    }
   ],
   "source": [
    "database = {**data, **base}\n",
    "database"
   ]
  },
  {
   "cell_type": "markdown",
   "metadata": {},
   "source": [
    "- dictionary sangat berkaitan dengan json\n",
    "- JavaScript Object Notation"
   ]
  },
  {
   "cell_type": "code",
   "execution_count": 53,
   "metadata": {},
   "outputs": [],
   "source": [
    "import json"
   ]
  },
  {
   "cell_type": "code",
   "execution_count": null,
   "metadata": {},
   "outputs": [],
   "source": []
  }
 ],
 "metadata": {
  "kernelspec": {
   "display_name": "Python 3 (ipykernel)",
   "language": "python",
   "name": "python3"
  },
  "language_info": {
   "codemirror_mode": {
    "name": "ipython",
    "version": 3
   },
   "file_extension": ".py",
   "mimetype": "text/x-python",
   "name": "python",
   "nbconvert_exporter": "python",
   "pygments_lexer": "ipython3",
   "version": "3.11.4"
  }
 },
 "nbformat": 4,
 "nbformat_minor": 4
}
