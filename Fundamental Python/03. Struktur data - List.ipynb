{
 "cells": [
  {
   "cell_type": "markdown",
   "metadata": {},
   "source": [
    "# List"
   ]
  },
  {
   "cell_type": "markdown",
   "metadata": {},
   "source": [
    "- Salah satu dari 4 struktur data python\n",
    "- List berisi kumpulan data yg tipe datanya bervariasi (string, numeric)\n",
    "- Bersifat mutable / bisa dirubah / di edit"
   ]
  },
  {
   "cell_type": "markdown",
   "metadata": {},
   "source": [
    "- Dibungkus kurung siku / []\n",
    "- Dipisahkan dengan koma / [,,,]"
   ]
  },
  {
   "cell_type": "markdown",
   "metadata": {},
   "source": [
    "- Apa bedanya dengan array? sama-sama di bungkus kurung siku?\n",
    "- Array hanya bisa menampung 1 tipe data, sedangkan list bisa bervariasi"
   ]
  },
  {
   "cell_type": "code",
   "execution_count": 2,
   "metadata": {},
   "outputs": [
    {
     "data": {
      "text/plain": [
       "['drogba', 'dono', 'alifia', 'lampard']"
      ]
     },
     "execution_count": 2,
     "metadata": {},
     "output_type": "execute_result"
    }
   ],
   "source": [
    "nama = [\"drogba\", \"dono\", \"alifia\", \"lampard\"]  # berupa string\n",
    "nama"
   ]
  },
  {
   "cell_type": "code",
   "execution_count": 2,
   "metadata": {},
   "outputs": [
    {
     "data": {
      "text/plain": [
       "4"
      ]
     },
     "execution_count": 2,
     "metadata": {},
     "output_type": "execute_result"
    }
   ],
   "source": [
    "len(nama) # panjang sebuah karakter"
   ]
  },
  {
   "cell_type": "code",
   "execution_count": 3,
   "metadata": {},
   "outputs": [
    {
     "data": {
      "text/plain": [
       "[12, 24, 35]"
      ]
     },
     "execution_count": 3,
     "metadata": {},
     "output_type": "execute_result"
    }
   ],
   "source": [
    "usia = [12, 24, 35]  # berupa integer\n",
    "usia"
   ]
  },
  {
   "cell_type": "code",
   "execution_count": 4,
   "metadata": {},
   "outputs": [
    {
     "data": {
      "text/plain": [
       "['jokowi', 45, True]"
      ]
     },
     "execution_count": 4,
     "metadata": {},
     "output_type": "execute_result"
    }
   ],
   "source": [
    "campuran = [\"jokowi\", 45, True] # bisa campuran\n",
    "campuran"
   ]
  },
  {
   "cell_type": "code",
   "execution_count": 5,
   "metadata": {},
   "outputs": [
    {
     "data": {
      "text/plain": [
       "['mbappe', ['di maria', 'icardi'], 'draxler', [212, 70, 6]]"
      ]
     },
     "execution_count": 5,
     "metadata": {},
     "output_type": "execute_result"
    }
   ],
   "source": [
    "player = [\"mbappe\", [\"di maria\", \"icardi\"], \"draxler\", [212,70,6]] # list di dalam list\n",
    "player"
   ]
  },
  {
   "cell_type": "code",
   "execution_count": 3,
   "metadata": {},
   "outputs": [
    {
     "data": {
      "text/plain": [
       "4"
      ]
     },
     "execution_count": 3,
     "metadata": {},
     "output_type": "execute_result"
    }
   ],
   "source": [
    "len(player)"
   ]
  },
  {
   "cell_type": "markdown",
   "metadata": {},
   "source": [
    "#### Mengakses elemen menggunakan slice"
   ]
  },
  {
   "cell_type": "markdown",
   "metadata": {},
   "source": [
    "- [:]\n",
    "- [awal:akhir:step]"
   ]
  },
  {
   "cell_type": "code",
   "execution_count": 17,
   "metadata": {},
   "outputs": [
    {
     "data": {
      "text/plain": [
       "['drogba', 'dono', 'alifia', 'lampard']"
      ]
     },
     "execution_count": 17,
     "metadata": {},
     "output_type": "execute_result"
    }
   ],
   "source": [
    "nama"
   ]
  },
  {
   "cell_type": "code",
   "execution_count": 4,
   "metadata": {},
   "outputs": [
    {
     "name": "stdout",
     "output_type": "stream",
     "text": [
      "alifia\n"
     ]
    }
   ],
   "source": [
    "print(nama[2]) # akses elemen di indeks ke-2"
   ]
  },
  {
   "cell_type": "code",
   "execution_count": 5,
   "metadata": {},
   "outputs": [
    {
     "name": "stdout",
     "output_type": "stream",
     "text": [
      "['drogba']\n"
     ]
    }
   ],
   "source": [
    "print(nama[:1]) # akses elemen dari awal sampai ke-indeks tertentu (1)"
   ]
  },
  {
   "cell_type": "code",
   "execution_count": 6,
   "metadata": {},
   "outputs": [
    {
     "name": "stdout",
     "output_type": "stream",
     "text": [
      "['alifia', 'lampard']\n"
     ]
    }
   ],
   "source": [
    "print(nama[2:]) # akses elemen dari index 2 sampai akhir"
   ]
  },
  {
   "cell_type": "code",
   "execution_count": 7,
   "metadata": {},
   "outputs": [
    {
     "name": "stdout",
     "output_type": "stream",
     "text": [
      "['drogba', 'dono', 'alifia']\n"
     ]
    }
   ],
   "source": [
    "# akses elemen menggunakan negatif indeks\n",
    "# akses elemen dari awal sampai ke-(n-1)\n",
    "\n",
    "print(nama[:-1])"
   ]
  },
  {
   "cell_type": "markdown",
   "metadata": {},
   "source": [
    "### Beberapa Metode dalam List"
   ]
  },
  {
   "cell_type": "markdown",
   "metadata": {},
   "source": [
    "#### append & extend"
   ]
  },
  {
   "cell_type": "markdown",
   "metadata": {},
   "source": [
    "- menambahkan\n",
    "- append -> hanya untuk 1 elemen\n",
    "- extend -> untuk beberapa elemen"
   ]
  },
  {
   "cell_type": "code",
   "execution_count": 24,
   "metadata": {},
   "outputs": [],
   "source": [
    "Liverpool = [\"firmino\", \"salah\", \"mane\"]"
   ]
  },
  {
   "cell_type": "code",
   "execution_count": 25,
   "metadata": {},
   "outputs": [
    {
     "name": "stdout",
     "output_type": "stream",
     "text": [
      "['firmino', 'salah', 'mane', 'milner', 'thiago']\n"
     ]
    }
   ],
   "source": [
    "# menambah elemen di dalam list\n",
    "\n",
    "Liverpool.extend([\"milner\"]+[\"thiago\"]) \n",
    "\n",
    "print(Liverpool)      "
   ]
  },
  {
   "cell_type": "code",
   "execution_count": 26,
   "metadata": {},
   "outputs": [
    {
     "name": "stdout",
     "output_type": "stream",
     "text": [
      "['firmino', 'salah', 'mane', 'milner', 'thiago', 'aguero']\n"
     ]
    }
   ],
   "source": [
    "# append hanya bisa menambah 1 nilai\n",
    "\n",
    "Liverpool.append(\"aguero\")\n",
    "\n",
    "print(Liverpool)"
   ]
  },
  {
   "cell_type": "code",
   "execution_count": 27,
   "metadata": {},
   "outputs": [
    {
     "name": "stdout",
     "output_type": "stream",
     "text": [
      "['firmino', 'salah', 'mane', 'milner', 'thiago', 'aguero', ['fabinho', 'ismed sofyan']]\n"
     ]
    }
   ],
   "source": [
    "# jika lebih dari 1 nilai berbentuk list di dalam list\n",
    "\n",
    "Liverpool.append([\"fabinho\", \"ismed sofyan\"]) # menambah elemen (list di dalam list)\n",
    "\n",
    "print(Liverpool)      "
   ]
  },
  {
   "cell_type": "markdown",
   "metadata": {},
   "source": [
    "#### pop, del & remove"
   ]
  },
  {
   "cell_type": "markdown",
   "metadata": {},
   "source": [
    "- menghapus\n",
    "- pop -> menghapus elemen paling akhir\n",
    "- pop -> bisa juga diberikan keterangan\n",
    "- del -> harus diberikan keterangan"
   ]
  },
  {
   "cell_type": "code",
   "execution_count": 28,
   "metadata": {},
   "outputs": [
    {
     "name": "stdout",
     "output_type": "stream",
     "text": [
      "['firmino', 'salah', 'mane', 'milner', 'thiago', ['fabinho', 'ismed sofyan']]\n"
     ]
    }
   ],
   "source": [
    "# secara default pop akan menghapus item index paling akhir\n",
    "# menghapus elemen di dalam list\n",
    "\n",
    "Liverpool.pop(5) \n",
    "\n",
    "print(Liverpool)"
   ]
  },
  {
   "cell_type": "code",
   "execution_count": 60,
   "metadata": {},
   "outputs": [],
   "source": [
    "makan = [\"nasi\", \"kentang\", \"singkong\"]"
   ]
  },
  {
   "cell_type": "code",
   "execution_count": 61,
   "metadata": {},
   "outputs": [
    {
     "name": "stdout",
     "output_type": "stream",
     "text": [
      "['nasi', 'singkong']\n"
     ]
    }
   ],
   "source": [
    "del makan[1]  # menghapus elemen di index 1\n",
    "print(makan)"
   ]
  },
  {
   "cell_type": "code",
   "execution_count": 30,
   "metadata": {},
   "outputs": [
    {
     "data": {
      "text/plain": [
       "['lontong', 'rujak']"
      ]
     },
     "execution_count": 30,
     "metadata": {},
     "output_type": "execute_result"
    }
   ],
   "source": [
    "nambah = [\"lontong\", \"rujak\"]\n",
    "nambah"
   ]
  },
  {
   "cell_type": "code",
   "execution_count": 32,
   "metadata": {},
   "outputs": [
    {
     "data": {
      "text/plain": [
       "['nasi', 'singkong', 'lontong', 'rujak']"
      ]
     },
     "execution_count": 32,
     "metadata": {},
     "output_type": "execute_result"
    }
   ],
   "source": [
    "total = makan + nambah\n",
    "total"
   ]
  },
  {
   "cell_type": "markdown",
   "metadata": {},
   "source": [
    "#### sort"
   ]
  },
  {
   "cell_type": "markdown",
   "metadata": {},
   "source": [
    "- Mengurutkan dari kecil"
   ]
  },
  {
   "cell_type": "code",
   "execution_count": 33,
   "metadata": {},
   "outputs": [
    {
     "data": {
      "text/plain": [
       "[21, 23, 19, 45, 34, 29]"
      ]
     },
     "execution_count": 33,
     "metadata": {},
     "output_type": "execute_result"
    }
   ],
   "source": [
    "usia = [21,23,19,45,34,29]\n",
    "usia"
   ]
  },
  {
   "cell_type": "code",
   "execution_count": 35,
   "metadata": {},
   "outputs": [
    {
     "data": {
      "text/plain": [
       "[19, 21, 23, 29, 34, 45]"
      ]
     },
     "execution_count": 35,
     "metadata": {},
     "output_type": "execute_result"
    }
   ],
   "source": [
    "usia.sort()\n",
    "usia"
   ]
  },
  {
   "cell_type": "code",
   "execution_count": 38,
   "metadata": {},
   "outputs": [],
   "source": [
    "# sort tidak bisa dimasukkan ke dalam bariabel baru\n",
    "# ketika di print tidak akan menghasilkan sesuatu\n",
    "\n",
    "usia2 = usia.sort()\n",
    "usia2"
   ]
  },
  {
   "cell_type": "code",
   "execution_count": 39,
   "metadata": {},
   "outputs": [
    {
     "data": {
      "text/plain": [
       "NoneType"
      ]
     },
     "execution_count": 39,
     "metadata": {},
     "output_type": "execute_result"
    }
   ],
   "source": [
    "# NonType merupakan himpunan kosong\n",
    "\n",
    "type(usia2)"
   ]
  },
  {
   "cell_type": "code",
   "execution_count": 41,
   "metadata": {},
   "outputs": [
    {
     "data": {
      "text/plain": [
       "[19, 21, 23, 29, 34, 45]"
      ]
     },
     "execution_count": 41,
     "metadata": {},
     "output_type": "execute_result"
    }
   ],
   "source": [
    "# tidak perlu menggunakan sort lagi\n",
    "\n",
    "usia3 = usia\n",
    "usia3"
   ]
  },
  {
   "cell_type": "code",
   "execution_count": 48,
   "metadata": {},
   "outputs": [
    {
     "data": {
      "text/plain": [
       "[11, 14, 12, 13, 18, 16]"
      ]
     },
     "execution_count": 48,
     "metadata": {},
     "output_type": "execute_result"
    }
   ],
   "source": [
    "remaja = [11,14,12,13,18,16]\n",
    "remaja"
   ]
  },
  {
   "cell_type": "code",
   "execution_count": 49,
   "metadata": {},
   "outputs": [
    {
     "data": {
      "text/plain": [
       "[11, 14, 12, 13, 18, 16]"
      ]
     },
     "execution_count": 49,
     "metadata": {},
     "output_type": "execute_result"
    }
   ],
   "source": [
    "remaja_copy = remaja.copy()\n",
    "remaja_copy"
   ]
  },
  {
   "cell_type": "code",
   "execution_count": 51,
   "metadata": {},
   "outputs": [
    {
     "data": {
      "text/plain": [
       "[11, 12, 13, 14, 16, 18]"
      ]
     },
     "execution_count": 51,
     "metadata": {},
     "output_type": "execute_result"
    }
   ],
   "source": [
    "remaja.sort()\n",
    "remaja"
   ]
  },
  {
   "cell_type": "markdown",
   "metadata": {},
   "source": [
    "#### reverse"
   ]
  },
  {
   "cell_type": "markdown",
   "metadata": {},
   "source": [
    "- Mengurutkan dari besar"
   ]
  },
  {
   "cell_type": "code",
   "execution_count": 70,
   "metadata": {},
   "outputs": [
    {
     "data": {
      "text/plain": [
       "[56, 53, 44, 76, 56]"
      ]
     },
     "execution_count": 70,
     "metadata": {},
     "output_type": "execute_result"
    }
   ],
   "source": [
    "tua = [56,53,44,76,56]\n",
    "tua"
   ]
  },
  {
   "cell_type": "code",
   "execution_count": 71,
   "metadata": {},
   "outputs": [
    {
     "data": {
      "text/plain": [
       "[56, 53, 44, 76, 56]"
      ]
     },
     "execution_count": 71,
     "metadata": {},
     "output_type": "execute_result"
    }
   ],
   "source": [
    "tua_copy = tua.copy()\n",
    "tua_copy"
   ]
  },
  {
   "cell_type": "code",
   "execution_count": 72,
   "metadata": {},
   "outputs": [
    {
     "data": {
      "text/plain": [
       "[56, 76, 44, 53, 56]"
      ]
     },
     "execution_count": 72,
     "metadata": {},
     "output_type": "execute_result"
    }
   ],
   "source": [
    "tua.reverse()\n",
    "tua"
   ]
  },
  {
   "cell_type": "code",
   "execution_count": 73,
   "metadata": {},
   "outputs": [
    {
     "data": {
      "text/plain": [
       "['a', 'c', 'f', 'g']"
      ]
     },
     "execution_count": 73,
     "metadata": {},
     "output_type": "execute_result"
    }
   ],
   "source": [
    "alpha = [\"a\",\"c\",\"f\",\"g\"]\n",
    "alpha"
   ]
  },
  {
   "cell_type": "code",
   "execution_count": 74,
   "metadata": {},
   "outputs": [
    {
     "data": {
      "text/plain": [
       "['a', 'c', 'f', 'g']"
      ]
     },
     "execution_count": 74,
     "metadata": {},
     "output_type": "execute_result"
    }
   ],
   "source": [
    "alpha_copy = alpha.copy()\n",
    "alpha_copy"
   ]
  },
  {
   "cell_type": "code",
   "execution_count": 75,
   "metadata": {},
   "outputs": [
    {
     "data": {
      "text/plain": [
       "['g', 'f', 'c', 'a']"
      ]
     },
     "execution_count": 75,
     "metadata": {},
     "output_type": "execute_result"
    }
   ],
   "source": [
    "alpha.reverse()\n",
    "alpha"
   ]
  },
  {
   "cell_type": "markdown",
   "metadata": {},
   "source": [
    "# Nested List"
   ]
  },
  {
   "cell_type": "code",
   "execution_count": 82,
   "metadata": {},
   "outputs": [
    {
     "data": {
      "text/plain": [
       "[2, 3, 2, 4, 5, [3, 7, 8, 9]]"
      ]
     },
     "execution_count": 82,
     "metadata": {},
     "output_type": "execute_result"
    }
   ],
   "source": [
    "isian = [2,3,2,4,5,[3,7,8,9]]\n",
    "isian"
   ]
  },
  {
   "cell_type": "code",
   "execution_count": 78,
   "metadata": {},
   "outputs": [
    {
     "data": {
      "text/plain": [
       "4"
      ]
     },
     "execution_count": 78,
     "metadata": {},
     "output_type": "execute_result"
    }
   ],
   "source": [
    "isian[3]"
   ]
  },
  {
   "cell_type": "code",
   "execution_count": 77,
   "metadata": {},
   "outputs": [
    {
     "data": {
      "text/plain": [
       "[3, 7, 8, 9]"
      ]
     },
     "execution_count": 77,
     "metadata": {},
     "output_type": "execute_result"
    }
   ],
   "source": [
    "isian[5]"
   ]
  },
  {
   "cell_type": "code",
   "execution_count": 80,
   "metadata": {},
   "outputs": [
    {
     "data": {
      "text/plain": [
       "[4, 5, [3, 7, 8, 9]]"
      ]
     },
     "execution_count": 80,
     "metadata": {},
     "output_type": "execute_result"
    }
   ],
   "source": [
    "isian[3:6]"
   ]
  },
  {
   "cell_type": "code",
   "execution_count": 81,
   "metadata": {},
   "outputs": [
    {
     "data": {
      "text/plain": [
       "8"
      ]
     },
     "execution_count": 81,
     "metadata": {},
     "output_type": "execute_result"
    }
   ],
   "source": [
    "isian[5][2]"
   ]
  },
  {
   "cell_type": "code",
   "execution_count": 92,
   "metadata": {},
   "outputs": [],
   "source": [
    "isian2 = [8,5,3,7,4,[6,3,3,\"a\"],[[5,2,6,\"b\"],[5,3,6,3,0]]]"
   ]
  },
  {
   "cell_type": "code",
   "execution_count": 93,
   "metadata": {},
   "outputs": [
    {
     "data": {
      "text/plain": [
       "[8, 5, 3, 7, 4, [6, 3, 3, 'a'], [[5, 2, 6, 'b'], [5, 3, 6, 3, 0]]]"
      ]
     },
     "execution_count": 93,
     "metadata": {},
     "output_type": "execute_result"
    }
   ],
   "source": [
    "isian2"
   ]
  },
  {
   "cell_type": "code",
   "execution_count": 94,
   "metadata": {},
   "outputs": [
    {
     "data": {
      "text/plain": [
       "[6, 3, 3, 'a']"
      ]
     },
     "execution_count": 94,
     "metadata": {},
     "output_type": "execute_result"
    }
   ],
   "source": [
    "isian2[5]"
   ]
  },
  {
   "cell_type": "code",
   "execution_count": 95,
   "metadata": {},
   "outputs": [
    {
     "data": {
      "text/plain": [
       "[[5, 2, 6, 'b'], [5, 3, 6, 3, 0]]"
      ]
     },
     "execution_count": 95,
     "metadata": {},
     "output_type": "execute_result"
    }
   ],
   "source": [
    "isian2[6]"
   ]
  },
  {
   "cell_type": "code",
   "execution_count": 96,
   "metadata": {},
   "outputs": [
    {
     "data": {
      "text/plain": [
       "'b'"
      ]
     },
     "execution_count": 96,
     "metadata": {},
     "output_type": "execute_result"
    }
   ],
   "source": [
    "isian2[6][0][3]"
   ]
  },
  {
   "cell_type": "markdown",
   "metadata": {},
   "source": [
    "## List for Loops"
   ]
  },
  {
   "cell_type": "code",
   "execution_count": 15,
   "metadata": {},
   "outputs": [],
   "source": [
    "buah = [\"nanas\", \"pisang\", 'mangga']"
   ]
  },
  {
   "cell_type": "code",
   "execution_count": 29,
   "metadata": {},
   "outputs": [
    {
     "name": "stdout",
     "output_type": "stream",
     "text": [
      "nanas\n",
      "pisang\n",
      "mangga\n"
     ]
    }
   ],
   "source": [
    "for item in buah:\n",
    "    print(item)"
   ]
  },
  {
   "cell_type": "code",
   "execution_count": 16,
   "metadata": {},
   "outputs": [
    {
     "name": "stdout",
     "output_type": "stream",
     "text": [
      "0\n",
      "1\n",
      "2\n"
     ]
    }
   ],
   "source": [
    "for i in range(len(buah)):\n",
    "    print(i)"
   ]
  },
  {
   "cell_type": "code",
   "execution_count": 97,
   "metadata": {},
   "outputs": [],
   "source": [
    "ganjil = [1,3,5,7,9]\n",
    "genap = [2,4,6,8]"
   ]
  },
  {
   "cell_type": "code",
   "execution_count": 98,
   "metadata": {},
   "outputs": [
    {
     "data": {
      "text/plain": [
       "[1, 3, 5, 7, 9, 2, 4, 6, 8]"
      ]
     },
     "execution_count": 98,
     "metadata": {},
     "output_type": "execute_result"
    }
   ],
   "source": [
    "angka = ganjil + genap\n",
    "angka"
   ]
  },
  {
   "cell_type": "code",
   "execution_count": 100,
   "metadata": {},
   "outputs": [
    {
     "data": {
      "text/plain": [
       "[[1, 3, 5, 7, 9], [2, 4, 6, 8]]"
      ]
     },
     "execution_count": 100,
     "metadata": {},
     "output_type": "execute_result"
    }
   ],
   "source": [
    "angka2 = [ganjil,genap]\n",
    "angka2"
   ]
  },
  {
   "cell_type": "code",
   "execution_count": 101,
   "metadata": {},
   "outputs": [
    {
     "name": "stdout",
     "output_type": "stream",
     "text": [
      "[1, 3, 5, 7, 9]\n",
      "[2, 4, 6, 8]\n"
     ]
    }
   ],
   "source": [
    "for i in angka2:\n",
    "    print(i)"
   ]
  },
  {
   "cell_type": "code",
   "execution_count": 102,
   "metadata": {},
   "outputs": [
    {
     "name": "stdout",
     "output_type": "stream",
     "text": [
      "[1, 3, 5, 7, 9]\n",
      "1\n",
      "3\n",
      "5\n",
      "7\n",
      "9\n",
      "[2, 4, 6, 8]\n",
      "2\n",
      "4\n",
      "6\n",
      "8\n"
     ]
    }
   ],
   "source": [
    "for i in angka2:\n",
    "    print(i)\n",
    "    \n",
    "    for j in i:\n",
    "        print(j)"
   ]
  },
  {
   "cell_type": "code",
   "execution_count": 126,
   "metadata": {},
   "outputs": [
    {
     "name": "stdout",
     "output_type": "stream",
     "text": [
      "1 3 5 7 9 2 4 6 8 "
     ]
    }
   ],
   "source": [
    "for y in angka2:\n",
    "    for z in y:\n",
    "        print(z, end = \" \")"
   ]
  },
  {
   "cell_type": "markdown",
   "metadata": {},
   "source": [
    "### Solve it!"
   ]
  },
  {
   "cell_type": "code",
   "execution_count": 17,
   "metadata": {},
   "outputs": [
    {
     "name": "stdout",
     "output_type": "stream",
     "text": [
      "1\n",
      "4\n",
      "9\n",
      "16\n",
      "25\n"
     ]
    }
   ],
   "source": [
    "utang = [1,2,3,4,5]\n",
    "\n",
    "for bunga in utang:\n",
    "    total = bunga ** 2\n",
    "    print(total)"
   ]
  },
  {
   "cell_type": "code",
   "execution_count": 18,
   "metadata": {},
   "outputs": [
    {
     "name": "stdout",
     "output_type": "stream",
     "text": [
      "[1, 4, 9, 16, 25]\n"
     ]
    }
   ],
   "source": [
    "nomor = [1,2,3,4,5]\n",
    "\n",
    "xxx = [y ** 2 for y in nomor]\n",
    "print(xxx)"
   ]
  },
  {
   "cell_type": "markdown",
   "metadata": {},
   "source": [
    "### Menghitung Rata-rata"
   ]
  },
  {
   "cell_type": "code",
   "execution_count": 19,
   "metadata": {},
   "outputs": [
    {
     "name": "stdout",
     "output_type": "stream",
     "text": [
      "Rata-rata nya adalah 4.0\n"
     ]
    }
   ],
   "source": [
    "def average(angka):\n",
    "    avg = sum(angka)/ len(angka)\n",
    "    return avg\n",
    "\n",
    "print(\"Rata-rata nya adalah\", average([2,3,5,6]))"
   ]
  },
  {
   "cell_type": "markdown",
   "metadata": {},
   "source": [
    "### Penjumlahan"
   ]
  },
  {
   "cell_type": "code",
   "execution_count": 21,
   "metadata": {},
   "outputs": [
    {
     "name": "stdout",
     "output_type": "stream",
     "text": [
      "6\n"
     ]
    }
   ],
   "source": [
    "def jumlah(nomor):\n",
    "    total = 0\n",
    "    for i in nomor:\n",
    "        total += i\n",
    "    return total\n",
    "    \n",
    "print(jumlah([1,2,3]))"
   ]
  },
  {
   "cell_type": "code",
   "execution_count": 33,
   "metadata": {},
   "outputs": [],
   "source": [
    "x = [40, 100, 1, 5, 25, 10]\n",
    "\n",
    "# for i in x:\n",
    "    "
   ]
  },
  {
   "cell_type": "code",
   "execution_count": 34,
   "metadata": {},
   "outputs": [],
   "source": [
    "x.reverse()"
   ]
  },
  {
   "cell_type": "code",
   "execution_count": 35,
   "metadata": {},
   "outputs": [
    {
     "name": "stdout",
     "output_type": "stream",
     "text": [
      "[10, 25, 5, 1, 100, 40]\n"
     ]
    }
   ],
   "source": [
    "print(x)"
   ]
  },
  {
   "cell_type": "code",
   "execution_count": 6,
   "metadata": {},
   "outputs": [
    {
     "name": "stdout",
     "output_type": "stream",
     "text": [
      " * \n",
      " *  * \n",
      " *  *  * \n"
     ]
    }
   ],
   "source": [
    "bintang = \"\"\n",
    "\n",
    "for i in range(3):\n",
    "    bintang += \" * \"\n",
    "    print(bintang)"
   ]
  },
  {
   "cell_type": "code",
   "execution_count": 12,
   "metadata": {},
   "outputs": [
    {
     "name": "stdout",
     "output_type": "stream",
     "text": [
      "14 8 2 -4 -10 -16 "
     ]
    }
   ],
   "source": [
    "angka = 14\n",
    "\n",
    "while angka >= -16:\n",
    "    print(angka, end = \" \")\n",
    "    angka -= 6"
   ]
  },
  {
   "cell_type": "code",
   "execution_count": 14,
   "metadata": {},
   "outputs": [
    {
     "name": "stdout",
     "output_type": "stream",
     "text": [
      "5,7\n",
      "7,9\n",
      "9,11\n",
      "11,13\n",
      "13,15\n",
      "15,17\n"
     ]
    }
   ],
   "source": [
    "i = 5\n",
    "\n",
    "while i <= 15:\n",
    "    print(i, end = \",\")\n",
    "    i += 2\n",
    "    \n",
    "    print(i)"
   ]
  },
  {
   "cell_type": "code",
   "execution_count": 16,
   "metadata": {},
   "outputs": [
    {
     "name": "stdout",
     "output_type": "stream",
     "text": [
      "Nomor urut 1\n",
      "Nomor urut 2\n",
      "Nomor urut 3\n",
      "Nomor urut 4\n",
      "Nomor urut 5\n",
      "Nomor urut 6\n",
      "Nomor urut 7\n",
      "Nomor urut 8\n",
      "Nomor urut 9\n",
      "Nomor urut 10\n"
     ]
    }
   ],
   "source": [
    "for i in range(10):\n",
    "    i += 1\n",
    "    print(f\"Nomor urut {i}\")"
   ]
  },
  {
   "cell_type": "code",
   "execution_count": 18,
   "metadata": {},
   "outputs": [
    {
     "name": "stdout",
     "output_type": "stream",
     "text": [
      "gazzzzzzz 0\n",
      "gazzzzzzz 2\n",
      "gazzzzzzz 4\n",
      "gazzzzzzz 6\n",
      "gazzzzzzz 8\n",
      "gazzzzzzz 10\n",
      "gazzzzzzz 12\n",
      "gazzzzzzz 14\n",
      "gazzzzzzz 16\n",
      "gazzzzzzz 18\n",
      "gazzzzzzz 20\n"
     ]
    }
   ],
   "source": [
    "for i in range(0,21,2):\n",
    "    print(f\"gazzzzzzz {i}\")"
   ]
  },
  {
   "cell_type": "code",
   "execution_count": 19,
   "metadata": {},
   "outputs": [
    {
     "name": "stdout",
     "output_type": "stream",
     "text": [
      "aku ucapkan 1 kali\n",
      "aku ucapkan 3 kali\n",
      "aku ucapkan 5 kali\n",
      "aku ucapkan 7 kali\n",
      "aku ucapkan 9 kali\n",
      "aku ucapkan 11 kali\n",
      "aku ucapkan 13 kali\n",
      "aku ucapkan 15 kali\n",
      "aku ucapkan 17 kali\n",
      "aku ucapkan 19 kali\n"
     ]
    }
   ],
   "source": [
    "for i in range(1,20,2):\n",
    "    print(f\"aku ucapkan {i} kali\")"
   ]
  },
  {
   "cell_type": "code",
   "execution_count": 21,
   "metadata": {},
   "outputs": [
    {
     "name": "stdout",
     "output_type": "stream",
     "text": [
      "1 1 1 1 1  \n",
      "1 1 1 1 1  \n",
      "1 1 1 1 1  \n"
     ]
    }
   ],
   "source": [
    "for i in range(3):      # baris\n",
    "    for j in range(5):  # kolom\n",
    "        print(1, end = \" \")\n",
    "    \n",
    "    print(\" \") # baris baru\n"
   ]
  },
  {
   "cell_type": "code",
   "execution_count": 23,
   "metadata": {},
   "outputs": [
    {
     "name": "stdout",
     "output_type": "stream",
     "text": [
      "1 2 3 4 5  \n",
      "6 7 8 9 10  \n",
      "11 12 13 14 15  \n"
     ]
    }
   ],
   "source": [
    "xxx = 1\n",
    "\n",
    "for i in range(3):\n",
    "    for j in range(5):\n",
    "        print(xxx, end = \" \")\n",
    "        xxx += 1\n",
    "        \n",
    "    print(\" \")"
   ]
  },
  {
   "cell_type": "code",
   "execution_count": 24,
   "metadata": {},
   "outputs": [
    {
     "name": "stdout",
     "output_type": "stream",
     "text": [
      " *  *  * \n"
     ]
    }
   ],
   "source": [
    "yyy = \"\"\n",
    "\n",
    "for i in range(3):\n",
    "    yyy += \" * \"\n",
    "print(yyy)"
   ]
  },
  {
   "cell_type": "code",
   "execution_count": 28,
   "metadata": {},
   "outputs": [
    {
     "name": "stdout",
     "output_type": "stream",
     "text": [
      " * \n",
      " * \n",
      " * \n"
     ]
    }
   ],
   "source": [
    "for i in range(3):\n",
    "    print(\" * \")"
   ]
  },
  {
   "cell_type": "code",
   "execution_count": 31,
   "metadata": {},
   "outputs": [
    {
     "name": "stdout",
     "output_type": "stream",
     "text": [
      "* * * * *  \n",
      "* * * * *  \n",
      "* * * * *  \n",
      "* * * * *  \n",
      "* * * * *  \n"
     ]
    }
   ],
   "source": [
    "for i in range(5):\n",
    "    for j in range(5):\n",
    "        print(\"*\", end = \" \")\n",
    "        \n",
    "    print(\" \")"
   ]
  },
  {
   "cell_type": "code",
   "execution_count": 36,
   "metadata": {},
   "outputs": [
    {
     "name": "stdout",
     "output_type": "stream",
     "text": [
      " * \n",
      " *  * \n",
      " *  *  * \n",
      " *  *  *  * \n",
      " *  *  *  *  * \n"
     ]
    }
   ],
   "source": [
    "car = \"\"\n",
    "\n",
    "for i in range(5):\n",
    "    car += \" * \"\n",
    "    print(car)"
   ]
  }
 ],
 "metadata": {
  "kernelspec": {
   "display_name": "Python 3 (ipykernel)",
   "language": "python",
   "name": "python3"
  },
  "language_info": {
   "codemirror_mode": {
    "name": "ipython",
    "version": 3
   },
   "file_extension": ".py",
   "mimetype": "text/x-python",
   "name": "python",
   "nbconvert_exporter": "python",
   "pygments_lexer": "ipython3",
   "version": "3.11.4"
  }
 },
 "nbformat": 4,
 "nbformat_minor": 4
}
