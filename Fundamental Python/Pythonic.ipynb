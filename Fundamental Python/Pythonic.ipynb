{
 "cells": [
  {
   "cell_type": "markdown",
   "id": "b978e785-320f-410c-ba7e-2c4b3fc2d344",
   "metadata": {},
   "source": [
    "#### Menukar nilai antar variable / Swapping value"
   ]
  },
  {
   "cell_type": "code",
   "execution_count": 9,
   "id": "8bd03934-4abf-4aaf-ba71-dec10fc3bfff",
   "metadata": {},
   "outputs": [
    {
     "name": "stdout",
     "output_type": "stream",
     "text": [
      "x=10 dan y=20\n"
     ]
    }
   ],
   "source": [
    "x = 10\n",
    "y = 20\n",
    "\n",
    "print(f'x={x} dan y={y}')"
   ]
  },
  {
   "cell_type": "code",
   "execution_count": 10,
   "id": "f3da2d9e-9f2c-4716-8496-fdbe1c7bb776",
   "metadata": {},
   "outputs": [
    {
     "name": "stdout",
     "output_type": "stream",
     "text": [
      "x=20 dan y=10\n"
     ]
    }
   ],
   "source": [
    "z = y\n",
    "y = x\n",
    "x = z\n",
    "\n",
    "print(f'x={x} dan y={y}')"
   ]
  },
  {
   "cell_type": "markdown",
   "id": "eade2c78-3e54-4513-9713-2884e676c1ad",
   "metadata": {},
   "source": [
    "Umumnya untuk menampung sebuah nilai membutuhkan variable ke-tiga, namun ada cara yang lebih 'pythonic'"
   ]
  },
  {
   "cell_type": "code",
   "execution_count": 3,
   "id": "694f238a-0b2f-4a55-80de-74ee1e8fcd11",
   "metadata": {},
   "outputs": [
    {
     "name": "stdout",
     "output_type": "stream",
     "text": [
      "sebelum penukaran a=10 & b=20\n"
     ]
    }
   ],
   "source": [
    "a, b, c, d = 10, 20, 30, 40\n",
    "print(f'sebelum penukaran a={a} & b={b}')"
   ]
  },
  {
   "cell_type": "code",
   "execution_count": 4,
   "id": "a48f9515-79f1-4cfc-b28a-22e1f8e8a5ba",
   "metadata": {},
   "outputs": [
    {
     "name": "stdout",
     "output_type": "stream",
     "text": [
      "setelah penuakaran a=40, b=30\n"
     ]
    }
   ],
   "source": [
    "print(f'setelah penuakaran a={d}, b={c}')"
   ]
  },
  {
   "cell_type": "markdown",
   "id": "9ff9897d-2a96-40cf-8a0e-94338f2cf61c",
   "metadata": {},
   "source": [
    "#### Perbandingan berantai / Chained Comparison"
   ]
  },
  {
   "cell_type": "code",
   "execution_count": 5,
   "id": "abc66d16-8c01-4b35-a8e3-39b1885eaf0e",
   "metadata": {},
   "outputs": [],
   "source": [
    "a = 25"
   ]
  },
  {
   "cell_type": "code",
   "execution_count": 6,
   "id": "81c102c8-125f-45c9-b7c8-136e659e793e",
   "metadata": {},
   "outputs": [
    {
     "data": {
      "text/plain": [
       "True"
      ]
     },
     "execution_count": 6,
     "metadata": {},
     "output_type": "execute_result"
    }
   ],
   "source": [
    "(a >= 20) and (a <= 30)"
   ]
  },
  {
   "cell_type": "markdown",
   "id": "be842997-45a3-4bb2-af86-f1d1c416532d",
   "metadata": {},
   "source": [
    "Cara yang lebih pythonic"
   ]
  },
  {
   "cell_type": "code",
   "execution_count": 11,
   "id": "0f8215eb-f09e-4a7c-929c-8c6d1c2c2b47",
   "metadata": {},
   "outputs": [
    {
     "data": {
      "text/plain": [
       "True"
      ]
     },
     "execution_count": 11,
     "metadata": {},
     "output_type": "execute_result"
    }
   ],
   "source": [
    "20 <= a <= 30"
   ]
  },
  {
   "cell_type": "markdown",
   "id": "ba3877c4-bca3-4df1-b426-e78974418330",
   "metadata": {},
   "source": [
    "#### Packing sekumpulan nilai dalam list"
   ]
  },
  {
   "cell_type": "code",
   "execution_count": 1,
   "id": "59eec309-fe24-4963-a482-0124bb2093ab",
   "metadata": {},
   "outputs": [],
   "source": [
    "p = 3\n",
    "q = 5\n",
    "r = 7\n",
    "s = [None]*3\n",
    "s[0] = p\n",
    "s[1] = q\n",
    "s[2] = r"
   ]
  },
  {
   "cell_type": "code",
   "execution_count": 2,
   "id": "5913c56a-b1f6-4aaa-b971-63656bc97ddf",
   "metadata": {},
   "outputs": [
    {
     "name": "stdout",
     "output_type": "stream",
     "text": [
      "[3, 5, 7]\n"
     ]
    }
   ],
   "source": [
    "print(s)"
   ]
  },
  {
   "cell_type": "markdown",
   "id": "c8c4c7ce-1faf-4893-a54c-47a6e0bbd2dc",
   "metadata": {},
   "source": [
    "Cara yang lebih pythonic"
   ]
  },
  {
   "cell_type": "code",
   "execution_count": 3,
   "id": "3054bff2-aa70-4e8e-ac78-325a872452e9",
   "metadata": {},
   "outputs": [
    {
     "name": "stdout",
     "output_type": "stream",
     "text": [
      "(9, 4, 6)\n"
     ]
    }
   ],
   "source": [
    "p, q, r = 9, 4, 6\n",
    "s = p, q, r\n",
    "\n",
    "print(s)"
   ]
  },
  {
   "cell_type": "code",
   "execution_count": 4,
   "id": "c9554cd3-a1be-40d6-ac7b-104687ae4863",
   "metadata": {},
   "outputs": [
    {
     "name": "stdout",
     "output_type": "stream",
     "text": [
      "[9, 4, 6]\n"
     ]
    }
   ],
   "source": [
    "print(list(s))"
   ]
  },
  {
   "cell_type": "markdown",
   "id": "42cf7ea8-1e7a-4f30-bb6d-7febf90bce2f",
   "metadata": {},
   "source": [
    "#### Unpacking nilai"
   ]
  },
  {
   "cell_type": "code",
   "execution_count": 5,
   "id": "ee5a7158-2fe9-4854-99da-1ab1022112bb",
   "metadata": {},
   "outputs": [],
   "source": [
    "list_var = [6,2,8]"
   ]
  },
  {
   "cell_type": "code",
   "execution_count": 7,
   "id": "3b7ab9b8-f3ae-413c-82a1-6d69637d68dc",
   "metadata": {},
   "outputs": [
    {
     "name": "stdout",
     "output_type": "stream",
     "text": [
      "2\n"
     ]
    }
   ],
   "source": [
    "a = list_var[1]\n",
    "print(a)"
   ]
  },
  {
   "cell_type": "markdown",
   "id": "867f032a-0ed3-4895-aff4-e9a0fcb8adbf",
   "metadata": {},
   "source": [
    "Cara yang lebih pythonic"
   ]
  },
  {
   "cell_type": "code",
   "execution_count": 8,
   "id": "70590055-2c99-4e9e-ba66-897471f227c5",
   "metadata": {},
   "outputs": [
    {
     "name": "stdout",
     "output_type": "stream",
     "text": [
      "6 2 8\n"
     ]
    }
   ],
   "source": [
    "a, b, c = list_var\n",
    "\n",
    "print(a, b, c)"
   ]
  },
  {
   "cell_type": "markdown",
   "id": "4d5e07fd-1f4d-4c6b-bca2-b13ebc4d6674",
   "metadata": {},
   "source": [
    "#### Tips for loop"
   ]
  },
  {
   "cell_type": "code",
   "execution_count": 12,
   "id": "2387f6ce-302a-4c10-9c5f-7b86c08dacae",
   "metadata": {},
   "outputs": [
    {
     "name": "stdout",
     "output_type": "stream",
     "text": [
      "6\n",
      "2\n",
      "8\n"
     ]
    }
   ],
   "source": [
    "for i in range(len(list_var)):\n",
    "    print(list_var[i])"
   ]
  },
  {
   "cell_type": "markdown",
   "id": "0be3394b-a819-45e3-a89d-7db5011d56c2",
   "metadata": {},
   "source": [
    "Cara yang lebih pythonic"
   ]
  },
  {
   "cell_type": "code",
   "execution_count": 11,
   "id": "bb6eef96-8a03-412f-8d62-c10b3bb2000f",
   "metadata": {},
   "outputs": [
    {
     "name": "stdout",
     "output_type": "stream",
     "text": [
      "6\n",
      "2\n",
      "8\n"
     ]
    }
   ],
   "source": [
    "for i in list_var:\n",
    "    print(i)"
   ]
  },
  {
   "cell_type": "markdown",
   "id": "ed69cff8-0255-44c0-941e-eb4390a5ba49",
   "metadata": {},
   "source": [
    "#### Tips enumerate pada for loop"
   ]
  },
  {
   "cell_type": "code",
   "execution_count": 13,
   "id": "b5b350bc-ca01-4cdf-bbd4-ee3ea80a8354",
   "metadata": {},
   "outputs": [],
   "source": [
    "nik = ['001', '002', '003']\n",
    "name = ['hariono', 'wawan', 'nick']"
   ]
  },
  {
   "cell_type": "code",
   "execution_count": 15,
   "id": "80b9a441-80a4-4f6f-a3ef-780280c95c73",
   "metadata": {},
   "outputs": [
    {
     "name": "stdout",
     "output_type": "stream",
     "text": [
      "001 - hariono\n",
      "002 - wawan\n",
      "003 - nick\n"
     ]
    }
   ],
   "source": [
    "for i in range(len(name)):\n",
    "    print(f'{nik[i]} - {name[i]}')"
   ]
  },
  {
   "cell_type": "markdown",
   "id": "143416fc-d460-4258-9e8f-fc320cf4cc62",
   "metadata": {},
   "source": [
    "Cara yang lebih pythonic"
   ]
  },
  {
   "cell_type": "code",
   "execution_count": 22,
   "id": "0e0821f6-9c92-4df0-b9a3-2cc61e4a1949",
   "metadata": {},
   "outputs": [
    {
     "name": "stdout",
     "output_type": "stream",
     "text": [
      "001 - hariono\n",
      "002 - wawan\n",
      "003 - nick\n"
     ]
    }
   ],
   "source": [
    "for nama, no in enumerate(nik):\n",
    "    print(f'{no} - {name[nama]}')"
   ]
  },
  {
   "cell_type": "code",
   "execution_count": null,
   "id": "0a1a0ad9-3c10-47a0-b0df-14274964870c",
   "metadata": {},
   "outputs": [],
   "source": []
  }
 ],
 "metadata": {
  "kernelspec": {
   "display_name": "Python 3 (ipykernel)",
   "language": "python",
   "name": "python3"
  },
  "language_info": {
   "codemirror_mode": {
    "name": "ipython",
    "version": 3
   },
   "file_extension": ".py",
   "mimetype": "text/x-python",
   "name": "python",
   "nbconvert_exporter": "python",
   "pygments_lexer": "ipython3",
   "version": "3.11.4"
  }
 },
 "nbformat": 4,
 "nbformat_minor": 5
}
