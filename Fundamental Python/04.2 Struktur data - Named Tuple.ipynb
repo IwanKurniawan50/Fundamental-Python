{
 "cells": [
  {
   "cell_type": "markdown",
   "id": "d5e050d6-b308-4ae6-a245-9e58d4b15d5f",
   "metadata": {},
   "source": [
    "-   collection data type, artinya dapat digunakan untuk menampung sekumpulan nilai/data.\n",
    "-   sequence data type, artinya nilai/data yang tersimpan di dalam named tuple dapat diakses berdasarkan index numerik. Hanya saja nilai pada named tuple umumnya diakses dengan memanfaatkan nama.\n",
    "-   immutable data type, artinya kita tidak dapat mengubah, menambah, ataupun menghapus nilai/data yang ditampung di dalam sebuah named tuple."
   ]
  },
  {
   "cell_type": "code",
   "execution_count": 2,
   "id": "9542c015-aeca-461f-b4a4-148eac8f12c7",
   "metadata": {},
   "outputs": [],
   "source": [
    "from collections import namedtuple"
   ]
  },
  {
   "cell_type": "code",
   "execution_count": 5,
   "id": "73d038b8-8e28-47f5-836a-312084b1bbd8",
   "metadata": {},
   "outputs": [],
   "source": [
    "barang = namedtuple('barang', ['nama_barang','harga_jual', 'garansi'])"
   ]
  },
  {
   "cell_type": "markdown",
   "id": "8c97c0f5-34ec-4237-b2b9-1319c859edf4",
   "metadata": {},
   "source": [
    "- terdapat semacam konvensi bahwa nama namedtuple harus sama dengan variabel\n",
    "- deret nama bisa di definisikan dengan list atau tuple"
   ]
  },
  {
   "cell_type": "code",
   "execution_count": 7,
   "id": "036d2257-a72c-4706-9e25-523a9147b88f",
   "metadata": {},
   "outputs": [
    {
     "data": {
      "text/plain": [
       "barang(nama_barang='mouse', harga_jual=420, garansi=True)"
      ]
     },
     "execution_count": 7,
     "metadata": {},
     "output_type": "execute_result"
    }
   ],
   "source": [
    "barang_mouse = barang('mouse', 420, True)\n",
    "barang_mouse"
   ]
  },
  {
   "cell_type": "code",
   "execution_count": 8,
   "id": "478875a8-2624-439b-a8da-08c6437b5f52",
   "metadata": {},
   "outputs": [
    {
     "data": {
      "text/plain": [
       "barang(nama_barang='pen', harga_jual=99, garansi=False)"
      ]
     },
     "execution_count": 8,
     "metadata": {},
     "output_type": "execute_result"
    }
   ],
   "source": [
    "barang_pen = barang(garansi=False, nama_barang='pen', harga_jual=99)\n",
    "barang_pen"
   ]
  },
  {
   "cell_type": "code",
   "execution_count": 10,
   "id": "fe2aac51-d665-4738-ae3d-e528bd99c25f",
   "metadata": {},
   "outputs": [
    {
     "data": {
      "text/plain": [
       "barang(nama_barang=False, harga_jual='pen', garansi=99)"
      ]
     },
     "execution_count": 10,
     "metadata": {},
     "output_type": "execute_result"
    }
   ],
   "source": [
    "# harus didefinsikan\n",
    "\n",
    "barang_pencil = barang(False,'pen',99)\n",
    "barang_pencil"
   ]
  },
  {
   "cell_type": "code",
   "execution_count": 11,
   "id": "5501a7ed-399a-4c3f-b6e8-bb7358b2f8ef",
   "metadata": {},
   "outputs": [
    {
     "data": {
      "text/plain": [
       "420"
      ]
     },
     "execution_count": 11,
     "metadata": {},
     "output_type": "execute_result"
    }
   ],
   "source": [
    "barang_mouse[1]"
   ]
  },
  {
   "cell_type": "code",
   "execution_count": 13,
   "id": "d244d074-d816-424c-9148-8d54590c59fc",
   "metadata": {},
   "outputs": [
    {
     "data": {
      "text/plain": [
       "'mouse'"
      ]
     },
     "execution_count": 13,
     "metadata": {},
     "output_type": "execute_result"
    }
   ],
   "source": [
    "barang_mouse[0]"
   ]
  },
  {
   "cell_type": "code",
   "execution_count": null,
   "id": "0c6bce22-b4ef-42b9-ad60-60c2bc016525",
   "metadata": {},
   "outputs": [],
   "source": []
  }
 ],
 "metadata": {
  "kernelspec": {
   "display_name": "Python 3 (ipykernel)",
   "language": "python",
   "name": "python3"
  },
  "language_info": {
   "codemirror_mode": {
    "name": "ipython",
    "version": 3
   },
   "file_extension": ".py",
   "mimetype": "text/x-python",
   "name": "python",
   "nbconvert_exporter": "python",
   "pygments_lexer": "ipython3",
   "version": "3.11.4"
  }
 },
 "nbformat": 4,
 "nbformat_minor": 5
}
