{
 "cells": [
  {
   "cell_type": "markdown",
   "metadata": {},
   "source": [
    "# Function"
   ]
  },
  {
   "cell_type": "markdown",
   "metadata": {},
   "source": [
    "#### Sebuah algoritma yang bisa di pangil secara berulang-ulang"
   ]
  },
  {
   "cell_type": "raw",
   "metadata": {},
   "source": [
    "- return -> digunakan untuk mendifinisikan hasil fungsi ke variabel\n",
    "- print -> digunakan jika hanya ingin mencetak hasil dari fungsi"
   ]
  },
  {
   "cell_type": "raw",
   "metadata": {},
   "source": [
    "- docstring -> sebuah komentar\n",
    "\n",
    "** \n",
    "kalimat \n",
    "***"
   ]
  },
  {
   "cell_type": "raw",
   "metadata": {},
   "source": [
    "- def nama_fungsi(variabel):\n",
    "- variabel bisa dikosongkan"
   ]
  },
  {
   "cell_type": "code",
   "execution_count": null,
   "metadata": {},
   "outputs": [],
   "source": []
  },
  {
   "cell_type": "code",
   "execution_count": null,
   "metadata": {},
   "outputs": [],
   "source": []
  },
  {
   "cell_type": "code",
   "execution_count": 1,
   "metadata": {},
   "outputs": [],
   "source": [
    "def fungsi():\n",
    "    print(\"ini adalah fungsi\")\n",
    "    \n",
    "# tidak muncul karena belum memanggil fungsi\n",
    "# fungsi() ==> memanggil sebuah fungsi"
   ]
  },
  {
   "cell_type": "code",
   "execution_count": 2,
   "metadata": {},
   "outputs": [
    {
     "name": "stdout",
     "output_type": "stream",
     "text": [
      "lemes prennn\n"
     ]
    }
   ],
   "source": [
    "def cetak():\n",
    "    print(\"lemes prennn\")\n",
    "    \n",
    "cetak()"
   ]
  },
  {
   "cell_type": "code",
   "execution_count": 11,
   "metadata": {},
   "outputs": [
    {
     "name": "stdout",
     "output_type": "stream",
     "text": [
      "Saya adalah seorang Pengusaha\n"
     ]
    }
   ],
   "source": [
    "def profesi(jenis):\n",
    "    print(\"Saya adalah seorang \" + jenis)\n",
    "    \n",
    "profesi(\"Pengusaha\")"
   ]
  },
  {
   "cell_type": "code",
   "execution_count": 6,
   "metadata": {},
   "outputs": [
    {
     "name": "stdout",
     "output_type": "stream",
     "text": [
      "saya harus cari makanan ke kantin\n"
     ]
    }
   ],
   "source": [
    "def lapar(tempat): # ===>> parameter tempat\n",
    "    print(\"saya harus cari makanan ke \" + tempat)\n",
    "\n",
    "lapar(\"kantin\")    # ===>> memanggil fungsi lapar bersama parameter"
   ]
  },
  {
   "cell_type": "code",
   "execution_count": 3,
   "metadata": {},
   "outputs": [
    {
     "name": "stdout",
     "output_type": "stream",
     "text": [
      "6\n"
     ]
    }
   ],
   "source": [
    "def perkalian(x,y):\n",
    "    print(x*y)\n",
    "    \n",
    "perkalian(2,3)"
   ]
  },
  {
   "cell_type": "code",
   "execution_count": 6,
   "metadata": {},
   "outputs": [
    {
     "data": {
      "text/plain": [
       "103332"
      ]
     },
     "execution_count": 6,
     "metadata": {},
     "output_type": "execute_result"
    }
   ],
   "source": [
    "def penjumlahan(x,y):\n",
    "    return x+y\n",
    "\n",
    "jumlah = penjumlahan(93939,9393)\n",
    "jumlah\n",
    "\n",
    "\n",
    "# jika ingin dimasukkan ke dalam variabel gunakanlah return"
   ]
  },
  {
   "cell_type": "code",
   "execution_count": 7,
   "metadata": {},
   "outputs": [
    {
     "data": {
      "text/plain": [
       "int"
      ]
     },
     "execution_count": 7,
     "metadata": {},
     "output_type": "execute_result"
    }
   ],
   "source": [
    "type(jumlah)"
   ]
  },
  {
   "cell_type": "code",
   "execution_count": 8,
   "metadata": {},
   "outputs": [],
   "source": [
    "def film(judul = \"action\"):\n",
    "    print(f\"saya pengen nonton film {judul}\")"
   ]
  },
  {
   "cell_type": "code",
   "execution_count": 9,
   "metadata": {},
   "outputs": [
    {
     "name": "stdout",
     "output_type": "stream",
     "text": [
      "saya pengen nonton film action\n"
     ]
    }
   ],
   "source": [
    "film()"
   ]
  },
  {
   "cell_type": "code",
   "execution_count": 10,
   "metadata": {},
   "outputs": [
    {
     "name": "stdout",
     "output_type": "stream",
     "text": [
      "saya pengen nonton film comedy\n"
     ]
    }
   ],
   "source": [
    "film(\"comedy\")"
   ]
  },
  {
   "cell_type": "code",
   "execution_count": 50,
   "metadata": {},
   "outputs": [],
   "source": [
    "def genap(bil):\n",
    "    bil = int(input(\"masukkan angka : \"))\n",
    "    if bil % 2 == 0:\n",
    "        print(f\"{bil} adalah bilangan genap\")\n",
    "    else:\n",
    "        print(f\"{bil} bukan bilangan genap\")\n",
    "        \"\"\"\n",
    "        ini adalah komen\n",
    "        \"\"\""
   ]
  },
  {
   "cell_type": "code",
   "execution_count": 51,
   "metadata": {},
   "outputs": [
    {
     "name": "stdout",
     "output_type": "stream",
     "text": [
      "masukkan angka : 3\n",
      "3 bukan bilangan genap\n"
     ]
    }
   ],
   "source": [
    "nilai = genap(bil)"
   ]
  },
  {
   "cell_type": "code",
   "execution_count": 55,
   "metadata": {},
   "outputs": [
    {
     "name": "stdout",
     "output_type": "stream",
     "text": [
      "masukkan sebuah kalimat : hadehhh pie iki lur?\n",
      "kata apa yang ingin dicari? lur\n"
     ]
    },
    {
     "data": {
      "text/plain": [
       "True"
      ]
     },
     "execution_count": 55,
     "metadata": {},
     "output_type": "execute_result"
    }
   ],
   "source": [
    "kalimat = input(\"masukkan sebuah kalimat : \")\n",
    "kata = input(\"kata apa yang ingin dicari? \")\n",
    "\n",
    "def cek_kalimat(kalimat):    \n",
    "    if kata in kalimat:\n",
    "        return True\n",
    "    else:\n",
    "        return False\n",
    "    \n",
    "cek_kalimat(kalimat)"
   ]
  },
  {
   "cell_type": "code",
   "execution_count": 71,
   "metadata": {},
   "outputs": [
    {
     "name": "stdout",
     "output_type": "stream",
     "text": [
      "masukkan sebuah kalimat : lala\n",
      "huruf yang ingin dicari : a\n",
      "ada huruf a sebanyak 2\n"
     ]
    }
   ],
   "source": [
    "kalimat2 = input(\"masukkan sebuah kalimat : \")\n",
    "huruf = input(\"huruf yang ingin dicari : \")\n",
    "\n",
    "def menemukan_kata(kalimat2):\n",
    "    kalimat_list = list(kalimat2)\n",
    "    total = 0\n",
    "    for i in kalimat_list:\n",
    "        if i == huruf:\n",
    "            total += 1\n",
    "    print(f\"ada huruf {huruf} sebanyak {total}\")\n",
    "            \n",
    "menemukan_kata(kalimat2)"
   ]
  },
  {
   "cell_type": "code",
   "execution_count": 40,
   "metadata": {},
   "outputs": [
    {
     "name": "stdout",
     "output_type": "stream",
     "text": [
      "ccsd : sdvkd skdjk\n"
     ]
    },
    {
     "data": {
      "text/plain": [
       "['s', 'd', 'v', 'k', 'd', ' ', 's', 'k', 'd', 'j', 'k']"
      ]
     },
     "execution_count": 40,
     "metadata": {},
     "output_type": "execute_result"
    }
   ],
   "source": [
    "x = input(\"ccsd : \")\n",
    "x_ = list(x)\n",
    "x_"
   ]
  },
  {
   "cell_type": "code",
   "execution_count": 20,
   "metadata": {},
   "outputs": [
    {
     "name": "stdout",
     "output_type": "stream",
     "text": [
      "Kapan bayar?\n",
      "None\n"
     ]
    }
   ],
   "source": [
    "def bayar(utang, uang):\n",
    "    if uang >= utang:\n",
    "        return uang - utang\n",
    "    else:\n",
    "        print(\"Kapan bayar?\")\n",
    "        \n",
    "print(bayar(9,8))"
   ]
  },
  {
   "cell_type": "code",
   "execution_count": 18,
   "metadata": {},
   "outputs": [
    {
     "name": "stdout",
     "output_type": "stream",
     "text": [
      "Siapa nama anda? rooney\n",
      "Dimana anda lahir? england\n",
      "Kapan anda lahir? 30-2-1978\n",
      "Halo nama saya adalah rooney dan saya lahir di england 30-2-1978\n"
     ]
    }
   ],
   "source": [
    "nama = input(\"Siapa nama anda? \")\n",
    "tempat = input(\"Dimana anda lahir? \")\n",
    "tgl = input(\"Kapan anda lahir? \")\n",
    "\n",
    "def biodata(nama,tempat,tgl):\n",
    "    print(f\"Halo nama saya adalah {nama} dan saya lahir di {tempat} {tgl}\")\n",
    "    \n",
    "biodata(nama,tempat,tgl)\n",
    "    "
   ]
  },
  {
   "cell_type": "markdown",
   "metadata": {},
   "source": [
    "## args dan kwargs"
   ]
  },
  {
   "cell_type": "raw",
   "metadata": {},
   "source": [
    "*args"
   ]
  },
  {
   "cell_type": "raw",
   "metadata": {},
   "source": [
    "- argumen\n",
    "- berfungsi memasukkan beberapa variabel tanp harus mendefinisikan\n",
    "- nama args bisa dirubah namun umumnya tetap menggunakan args\n",
    "- jika di print menghasilkan tuples"
   ]
  },
  {
   "cell_type": "code",
   "execution_count": 77,
   "metadata": {},
   "outputs": [
    {
     "name": "stdout",
     "output_type": "stream",
     "text": [
      "(3, 2, 4, 2, 2, 3)\n"
     ]
    }
   ],
   "source": [
    "def jumlah(*args):\n",
    "    print((args))\n",
    "\n",
    "jumlah(3,2,4,2,2,3)"
   ]
  },
  {
   "cell_type": "code",
   "execution_count": 75,
   "metadata": {},
   "outputs": [
    {
     "data": {
      "text/plain": [
       "13"
      ]
     },
     "execution_count": 75,
     "metadata": {},
     "output_type": "execute_result"
    }
   ],
   "source": [
    "sum((2,4,2,2,3,))"
   ]
  },
  {
   "cell_type": "code",
   "execution_count": 74,
   "metadata": {},
   "outputs": [
    {
     "data": {
      "text/plain": [
       "16"
      ]
     },
     "execution_count": 74,
     "metadata": {},
     "output_type": "execute_result"
    }
   ],
   "source": [
    "def jumlah(*args):\n",
    "    return sum((args))\n",
    "\n",
    "jumlah(3,2,4,2,2,3)"
   ]
  },
  {
   "cell_type": "raw",
   "metadata": {},
   "source": [
    "**kwargs"
   ]
  },
  {
   "cell_type": "raw",
   "metadata": {},
   "source": [
    "- keyword argumen\n",
    "- berfungsi memasukkan beberapa variabel tanp harus mendefinisikan\n",
    "- jika di print menghasilkan dictionary"
   ]
  },
  {
   "cell_type": "code",
   "execution_count": 81,
   "metadata": {},
   "outputs": [
    {
     "name": "stdout",
     "output_type": "stream",
     "text": [
      "{'siswa': 90}\n"
     ]
    }
   ],
   "source": [
    "def cek_kwargs(**kwargs):\n",
    "    print(kwargs)\n",
    "\n",
    "cek_kwargs(siswa = 90)"
   ]
  },
  {
   "cell_type": "code",
   "execution_count": 82,
   "metadata": {},
   "outputs": [
    {
     "name": "stdout",
     "output_type": "stream",
     "text": [
      "{'siswa': 90, 'pekerja': 20}\n"
     ]
    }
   ],
   "source": [
    "def cek_kwargs(**kwargs):\n",
    "    print(kwargs)\n",
    "\n",
    "cek_kwargs(siswa = 90, pekerja = 20)"
   ]
  },
  {
   "cell_type": "code",
   "execution_count": 1,
   "metadata": {},
   "outputs": [],
   "source": [
    "def belanja(*args,**kwargs):\n",
    "    print(\"saya akan beli {} {}\".format(args[0],kwargs[\"celana\"]))"
   ]
  },
  {
   "cell_type": "code",
   "execution_count": 2,
   "metadata": {},
   "outputs": [
    {
     "name": "stdout",
     "output_type": "stream",
     "text": [
      "saya akan beli 2000 jeans\n"
     ]
    }
   ],
   "source": [
    "belanja( 2000, 4000, 3500, baju = \"kaos\", celana = \"jeans\")"
   ]
  },
  {
   "cell_type": "code",
   "execution_count": 5,
   "metadata": {},
   "outputs": [
    {
     "name": "stdout",
     "output_type": "stream",
     "text": [
      "bukan angka genap\n"
     ]
    }
   ],
   "source": [
    "def genap(angka):\n",
    "    if angka % 2 == 0:\n",
    "        print(\"angka genap\")\n",
    "    else:\n",
    "        print(\"bukan angka genap\")\n",
    "genap(5)"
   ]
  },
  {
   "cell_type": "code",
   "execution_count": null,
   "metadata": {},
   "outputs": [],
   "source": []
  }
 ],
 "metadata": {
  "kernelspec": {
   "display_name": "Python 3",
   "language": "python",
   "name": "python3"
  },
  "language_info": {
   "codemirror_mode": {
    "name": "ipython",
    "version": 3
   },
   "file_extension": ".py",
   "mimetype": "text/x-python",
   "name": "python",
   "nbconvert_exporter": "python",
   "pygments_lexer": "ipython3",
   "version": "3.8.3"
  }
 },
 "nbformat": 4,
 "nbformat_minor": 4
}
