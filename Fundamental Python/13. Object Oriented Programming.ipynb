{
 "cells": [
  {
   "cell_type": "markdown",
   "metadata": {},
   "source": [
    "# Di python, semuanya adalah objek (class)"
   ]
  },
  {
   "cell_type": "code",
   "execution_count": 2,
   "metadata": {},
   "outputs": [
    {
     "name": "stdout",
     "output_type": "stream",
     "text": [
      "<class 'str'>\n",
      "<class 'int'>\n",
      "<class 'float'>\n",
      "<class 'list'>\n",
      "<class 'dict'>\n",
      "<class 'tuple'>\n",
      "<class 'bool'>\n",
      "<class 'NoneType'>\n"
     ]
    }
   ],
   "source": [
    "print(type(\"xixixi hehe\"))\n",
    "print(type(21))\n",
    "print(type(34.09))\n",
    "print(type([]))\n",
    "print(type({}))\n",
    "print(type(()))\n",
    "print(type(False))\n",
    "print(type(None))"
   ]
  },
  {
   "cell_type": "raw",
   "metadata": {},
   "source": [
    "Apa ciri khas sebuah objek di python?\n",
    "- JIka kita tambahkan (.)/ dot setelah tipe data dan klik Tab, akan muncul tampilan beberapa methods dan atribut"
   ]
  },
  {
   "cell_type": "raw",
   "metadata": {},
   "source": [
    "Dengan OOP memungkinkan untuk membuat objek kita sendiri, termasuk methods dan attributes nya"
   ]
  },
  {
   "cell_type": "code",
   "execution_count": null,
   "metadata": {},
   "outputs": [],
   "source": []
  }
 ],
 "metadata": {
  "kernelspec": {
   "display_name": "Python 3",
   "language": "python",
   "name": "python3"
  },
  "language_info": {
   "codemirror_mode": {
    "name": "ipython",
    "version": 3
   },
   "file_extension": ".py",
   "mimetype": "text/x-python",
   "name": "python",
   "nbconvert_exporter": "python",
   "pygments_lexer": "ipython3",
   "version": "3.8.3"
  }
 },
 "nbformat": 4,
 "nbformat_minor": 4
}
