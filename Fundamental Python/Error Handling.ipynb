{
 "cells": [
  {
   "cell_type": "markdown",
   "metadata": {},
   "source": [
    "# Error handling"
   ]
  },
  {
   "cell_type": "markdown",
   "metadata": {},
   "source": [
    "#### Perintah-perintah di dalam error handling"
   ]
  },
  {
   "cell_type": "raw",
   "metadata": {},
   "source": [
    "- Try\n",
    "- akan mengeksekusi argumen di dalamnya\n",
    "- bisa argumen error atau tidak"
   ]
  },
  {
   "cell_type": "raw",
   "metadata": {},
   "source": [
    "- Except\n",
    "- hanya akan mengeksekusi jika argumennya terjadi error pada perintah try"
   ]
  },
  {
   "cell_type": "raw",
   "metadata": {},
   "source": [
    "- Finally\n",
    "- akan mengeksekusi argumen setelah finally, apapun yg terjadi diatasnya"
   ]
  },
  {
   "cell_type": "raw",
   "metadata": {},
   "source": [
    "- Raise\n",
    "- akan menunjukan keterangan error di program"
   ]
  },
  {
   "cell_type": "markdown",
   "metadata": {},
   "source": [
    "#### Jenis-jenis error"
   ]
  },
  {
   "cell_type": "markdown",
   "metadata": {},
   "source": [
    "https://docs.python.org/3/library/exceptions.html"
   ]
  },
  {
   "cell_type": "code",
   "execution_count": 1,
   "metadata": {},
   "outputs": [
    {
     "name": "stdout",
     "output_type": "stream",
     "text": [
      "bapak2\n"
     ]
    }
   ],
   "source": [
    "print(\"bapak2\")"
   ]
  },
  {
   "cell_type": "code",
   "execution_count": 2,
   "metadata": {},
   "outputs": [
    {
     "name": "stdout",
     "output_type": "stream",
     "text": [
      "29\n"
     ]
    }
   ],
   "source": [
    "print(8+21)"
   ]
  },
  {
   "cell_type": "code",
   "execution_count": 3,
   "metadata": {},
   "outputs": [
    {
     "ename": "TypeError",
     "evalue": "unsupported operand type(s) for +: 'int' and 'str'",
     "output_type": "error",
     "traceback": [
      "\u001b[1;31m---------------------------------------------------------------------------\u001b[0m",
      "\u001b[1;31mTypeError\u001b[0m                                 Traceback (most recent call last)",
      "\u001b[1;32m<ipython-input-3-4a2ce92d4131>\u001b[0m in \u001b[0;36m<module>\u001b[1;34m\u001b[0m\n\u001b[1;32m----> 1\u001b[1;33m \u001b[0mprint\u001b[0m\u001b[1;33m(\u001b[0m\u001b[1;36m4\u001b[0m\u001b[1;33m+\u001b[0m\u001b[1;34m\"x\"\u001b[0m\u001b[1;33m)\u001b[0m\u001b[1;33m\u001b[0m\u001b[1;33m\u001b[0m\u001b[0m\n\u001b[0m",
      "\u001b[1;31mTypeError\u001b[0m: unsupported operand type(s) for +: 'int' and 'str'"
     ]
    }
   ],
   "source": [
    "print(4+\"x\")"
   ]
  },
  {
   "cell_type": "code",
   "execution_count": 4,
   "metadata": {},
   "outputs": [
    {
     "name": "stdout",
     "output_type": "stream",
     "text": [
      "masukkan angka : 11\n",
      "11\n"
     ]
    }
   ],
   "source": [
    "print(int(input(\"masukkan angka : \")))"
   ]
  },
  {
   "cell_type": "code",
   "execution_count": 5,
   "metadata": {},
   "outputs": [
    {
     "name": "stdout",
     "output_type": "stream",
     "text": [
      "masukkan angka : kata-katanya\n"
     ]
    },
    {
     "ename": "ValueError",
     "evalue": "invalid literal for int() with base 10: 'kata-katanya'",
     "output_type": "error",
     "traceback": [
      "\u001b[1;31m---------------------------------------------------------------------------\u001b[0m",
      "\u001b[1;31mValueError\u001b[0m                                Traceback (most recent call last)",
      "\u001b[1;32m<ipython-input-5-d0929f40520b>\u001b[0m in \u001b[0;36m<module>\u001b[1;34m\u001b[0m\n\u001b[1;32m----> 1\u001b[1;33m \u001b[0mprint\u001b[0m\u001b[1;33m(\u001b[0m\u001b[0mint\u001b[0m\u001b[1;33m(\u001b[0m\u001b[0minput\u001b[0m\u001b[1;33m(\u001b[0m\u001b[1;34m\"masukkan angka : \"\u001b[0m\u001b[1;33m)\u001b[0m\u001b[1;33m)\u001b[0m\u001b[1;33m)\u001b[0m\u001b[1;33m\u001b[0m\u001b[1;33m\u001b[0m\u001b[0m\n\u001b[0m",
      "\u001b[1;31mValueError\u001b[0m: invalid literal for int() with base 10: 'kata-katanya'"
     ]
    }
   ],
   "source": [
    "print(int(input(\"masukkan angka : \")))"
   ]
  },
  {
   "cell_type": "code",
   "execution_count": 8,
   "metadata": {},
   "outputs": [
    {
     "name": "stdout",
     "output_type": "stream",
     "text": [
      "masukkan angka : 99\n",
      "99\n"
     ]
    }
   ],
   "source": [
    "try:\n",
    "    print(int(input(\"masukkan angka : \")))\n",
    "except:\n",
    "    print(\"masukkan angka ya buuuu\")"
   ]
  },
  {
   "cell_type": "code",
   "execution_count": 9,
   "metadata": {},
   "outputs": [
    {
     "name": "stdout",
     "output_type": "stream",
     "text": [
      "masukkan angka : xixixi\n",
      "masukkan angka ya buuuu\n"
     ]
    }
   ],
   "source": [
    "try:\n",
    "    print(int(input(\"masukkan angka : \")))\n",
    "except:\n",
    "    print(\"masukkan angka ya buuuu\")"
   ]
  },
  {
   "cell_type": "code",
   "execution_count": 10,
   "metadata": {},
   "outputs": [
    {
     "name": "stdout",
     "output_type": "stream",
     "text": [
      "masukkan angka : 57\n",
      "57\n",
      "matur nuhunnn\n"
     ]
    }
   ],
   "source": [
    "while True:\n",
    "    try:\n",
    "        print(int(input(\"masukkan angka : \")))\n",
    "    except:\n",
    "        print(\"masukkan angka ya buuuu\")\n",
    "    else:\n",
    "        print(\"matur nuhunnn\")\n",
    "        break"
   ]
  },
  {
   "cell_type": "code",
   "execution_count": 11,
   "metadata": {},
   "outputs": [
    {
     "name": "stdout",
     "output_type": "stream",
     "text": [
      "masukkan angka : pulang\n",
      "masukkan angka ya buuuu\n",
      "masukkan angka : pergi\n",
      "masukkan angka ya buuuu\n",
      "masukkan angka : 87\n",
      "87\n",
      "matur nuhunnn\n"
     ]
    }
   ],
   "source": [
    "while True:\n",
    "    try:\n",
    "        print(int(input(\"masukkan angka : \")))\n",
    "    except:\n",
    "        print(\"masukkan angka ya buuuu\")\n",
    "    else:\n",
    "        print(\"matur nuhunnn\")\n",
    "        break"
   ]
  },
  {
   "cell_type": "code",
   "execution_count": 14,
   "metadata": {},
   "outputs": [
    {
     "name": "stdout",
     "output_type": "stream",
     "text": [
      "masukkan angka : ups\n",
      "masukkan angka ya buuuu\n",
      "masukkan angka : 0\n",
      "jangan masukkan 0 ya, leboh dari 0 donggg\n",
      "masukkan angka : 0.2\n",
      "masukkan angka ya buuuu\n",
      "masukkan angka : 0.9\n",
      "masukkan angka ya buuuu\n",
      "masukkan angka : 1\n",
      "99.0\n",
      "matur nuhunnn\n"
     ]
    }
   ],
   "source": [
    "while True:\n",
    "    try:\n",
    "        angka = int(input(\"masukkan angka : \"))\n",
    "        print(99/angka)\n",
    "    except ValueError:\n",
    "        print(\"masukkan angka ya buuuu\")\n",
    "    except ZeroDivisionError:\n",
    "        print(\"jangan masukkan 0 ya, leboh dari 0 donggg\")\n",
    "    else:\n",
    "        print(\"matur nuhunnn\")\n",
    "        break"
   ]
  },
  {
   "cell_type": "code",
   "execution_count": 15,
   "metadata": {},
   "outputs": [],
   "source": [
    "def penjumlahan(num1,num2):\n",
    "    return num1 + num2"
   ]
  },
  {
   "cell_type": "code",
   "execution_count": 16,
   "metadata": {},
   "outputs": [
    {
     "data": {
      "text/plain": [
       "6"
      ]
     },
     "execution_count": 16,
     "metadata": {},
     "output_type": "execute_result"
    }
   ],
   "source": [
    "penjumlahan(4,2)"
   ]
  },
  {
   "cell_type": "code",
   "execution_count": 29,
   "metadata": {},
   "outputs": [],
   "source": [
    "def penjumlahan(num1,num2):\n",
    "    while True:\n",
    "        try:\n",
    "            num1 + num2\n",
    "        except:\n",
    "            print(\"masukkan angka\")\n",
    "            while True:\n",
    "                try:\n",
    "                    num1 = int(input(\"masukkan angka 1 : \"))\n",
    "                    num2 = int(input(\"masukkan angka 2 : \"))\n",
    "                except:\n",
    "                    print(\"angka brooo\")\n",
    "                else:\n",
    "                    break\n",
    "        else:\n",
    "            print(num1+num2)\n",
    "            break"
   ]
  },
  {
   "cell_type": "code",
   "execution_count": 30,
   "metadata": {},
   "outputs": [
    {
     "name": "stdout",
     "output_type": "stream",
     "text": [
      "5\n"
     ]
    }
   ],
   "source": [
    "penjumlahan(4,1)"
   ]
  },
  {
   "cell_type": "code",
   "execution_count": 31,
   "metadata": {},
   "outputs": [
    {
     "name": "stdout",
     "output_type": "stream",
     "text": [
      "masukkan angka\n",
      "masukkan angka 1 : 12\n",
      "masukkan angka 2 : s\n",
      "angka brooo\n",
      "masukkan angka 1 : 2\n",
      "masukkan angka 2 : s\n",
      "angka brooo\n",
      "masukkan angka 1 : 1\n",
      "masukkan angka 2 : 2\n",
      "3\n"
     ]
    }
   ],
   "source": [
    "penjumlahan(4,\"z\")"
   ]
  },
  {
   "cell_type": "code",
   "execution_count": 32,
   "metadata": {},
   "outputs": [],
   "source": [
    "def penjumlahan(num1,num2):\n",
    "    while True:\n",
    "        try:\n",
    "            num1 + num2\n",
    "        except:\n",
    "            print(\"masukkan angka\")\n",
    "            while True:\n",
    "                try:\n",
    "                    num1 = int(input(\"masukkan angka 1 : \"))\n",
    "                    num2 = int(input(\"masukkan angka 2 : \"))\n",
    "                except:\n",
    "                    print(\"angka brooo\")\n",
    "                else:\n",
    "                    break\n",
    "        else:\n",
    "            print(num1+num2)\n",
    "            break\n",
    "        finally:\n",
    "            print(\"mantap prennn\")"
   ]
  },
  {
   "cell_type": "code",
   "execution_count": 33,
   "metadata": {},
   "outputs": [
    {
     "name": "stdout",
     "output_type": "stream",
     "text": [
      "masukkan angka\n",
      "masukkan angka 1 : 2\n",
      "masukkan angka 2 : t\n",
      "angka brooo\n",
      "masukkan angka 1 : 1\n",
      "masukkan angka 2 : 88\n",
      "mantap prennn\n",
      "89\n",
      "mantap prennn\n"
     ]
    }
   ],
   "source": [
    "penjumlahan(\"x\",2)"
   ]
  },
  {
   "cell_type": "code",
   "execution_count": 34,
   "metadata": {},
   "outputs": [
    {
     "name": "stdout",
     "output_type": "stream",
     "text": [
      "berape bro? e\n",
      "angka yeee\n",
      "nahhh\n"
     ]
    }
   ],
   "source": [
    "try:\n",
    "    angka = int(input(\"berape bro? \"))\n",
    "except:\n",
    "    print(\"angka yeee\")\n",
    "else:\n",
    "    print(angka)\n",
    "finally:\n",
    "    print(\"nahhh\")"
   ]
  },
  {
   "cell_type": "code",
   "execution_count": 41,
   "metadata": {},
   "outputs": [
    {
     "name": "stdout",
     "output_type": "stream",
     "text": [
      "berape bro? 9\n",
      "nahhh\n"
     ]
    },
    {
     "ename": "ValueError",
     "evalue": "pengen aja",
     "output_type": "error",
     "traceback": [
      "\u001b[1;31m---------------------------------------------------------------------------\u001b[0m",
      "\u001b[1;31mValueError\u001b[0m                                Traceback (most recent call last)",
      "\u001b[1;32m<ipython-input-41-22dca9f371e3>\u001b[0m in \u001b[0;36m<module>\u001b[1;34m\u001b[0m\n\u001b[0;32m      2\u001b[0m     \u001b[0mangka\u001b[0m \u001b[1;33m=\u001b[0m \u001b[0mint\u001b[0m\u001b[1;33m(\u001b[0m\u001b[0minput\u001b[0m\u001b[1;33m(\u001b[0m\u001b[1;34m\"berape bro? \"\u001b[0m\u001b[1;33m)\u001b[0m\u001b[1;33m)\u001b[0m\u001b[1;33m\u001b[0m\u001b[1;33m\u001b[0m\u001b[0m\n\u001b[0;32m      3\u001b[0m     \u001b[1;36m99\u001b[0m\u001b[1;33m/\u001b[0m\u001b[0mangka\u001b[0m\u001b[1;33m\u001b[0m\u001b[1;33m\u001b[0m\u001b[0m\n\u001b[1;32m----> 4\u001b[1;33m     \u001b[1;32mraise\u001b[0m \u001b[0mValueError\u001b[0m\u001b[1;33m(\u001b[0m\u001b[1;34m\"pengen aja\"\u001b[0m\u001b[1;33m)\u001b[0m\u001b[1;33m\u001b[0m\u001b[1;33m\u001b[0m\u001b[0m\n\u001b[0m\u001b[0;32m      5\u001b[0m \u001b[1;32mexcept\u001b[0m \u001b[0mZeroDivisionError\u001b[0m\u001b[1;33m:\u001b[0m\u001b[1;33m\u001b[0m\u001b[1;33m\u001b[0m\u001b[0m\n\u001b[0;32m      6\u001b[0m     \u001b[0mprint\u001b[0m\u001b[1;33m(\u001b[0m\u001b[1;34m\"angka yeee lebih dari 0\"\u001b[0m\u001b[1;33m)\u001b[0m\u001b[1;33m\u001b[0m\u001b[1;33m\u001b[0m\u001b[0m\n",
      "\u001b[1;31mValueError\u001b[0m: pengen aja"
     ]
    }
   ],
   "source": [
    "try:\n",
    "    angka = int(input(\"berape bro? \"))\n",
    "    99/angka\n",
    "    raise ValueError(\"pengen aja\")\n",
    "except ZeroDivisionError:\n",
    "    print(\"angka yeee lebih dari 0\")\n",
    "# except ValueError:\n",
    "#     print(\"angka bwanggg\")\n",
    "else:\n",
    "    print(angka)\n",
    "finally:\n",
    "    print(\"nahhh\")"
   ]
  },
  {
   "cell_type": "code",
   "execution_count": null,
   "metadata": {},
   "outputs": [],
   "source": []
  }
 ],
 "metadata": {
  "kernelspec": {
   "display_name": "Python 3",
   "language": "python",
   "name": "python3"
  },
  "language_info": {
   "codemirror_mode": {
    "name": "ipython",
    "version": 3
   },
   "file_extension": ".py",
   "mimetype": "text/x-python",
   "name": "python",
   "nbconvert_exporter": "python",
   "pygments_lexer": "ipython3",
   "version": "3.8.3"
  }
 },
 "nbformat": 4,
 "nbformat_minor": 4
}
