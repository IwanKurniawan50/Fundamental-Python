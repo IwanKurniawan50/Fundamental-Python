{
 "cells": [
  {
   "cell_type": "markdown",
   "metadata": {},
   "source": [
    "# List"
   ]
  },
  {
   "cell_type": "markdown",
   "metadata": {},
   "source": [
    "- **Dibungkus kurung siku**\n",
    "- **Dipisahkan dengan koma**"
   ]
  },
  {
   "cell_type": "code",
   "execution_count": 1,
   "metadata": {},
   "outputs": [],
   "source": [
    "nama = [\"drogba\", \"dono\", \"alifia\", \"lampard\"]  # berupa sttring\n",
    "usia = [12, 24, 35]                # berupa integer\n",
    "campuran = [\"jokowi\", 45, True]    # bisa campuran\n",
    "player = [\"mbappe\", [\"di maria\", \"icardi\"], \"draxler\", [212,70,6]] # list di dalam list"
   ]
  },
  {
   "cell_type": "code",
   "execution_count": 2,
   "metadata": {},
   "outputs": [
    {
     "data": {
      "text/plain": [
       "4"
      ]
     },
     "execution_count": 2,
     "metadata": {},
     "output_type": "execute_result"
    }
   ],
   "source": [
    "len(nama) # panjang sebuah karakter"
   ]
  },
  {
   "cell_type": "code",
   "execution_count": 3,
   "metadata": {},
   "outputs": [
    {
     "data": {
      "text/plain": [
       "4"
      ]
     },
     "execution_count": 3,
     "metadata": {},
     "output_type": "execute_result"
    }
   ],
   "source": [
    "len(player)"
   ]
  },
  {
   "cell_type": "markdown",
   "metadata": {},
   "source": [
    "### Mengakses Elemen menggunakan slice / [:] / [awal:akhir]"
   ]
  },
  {
   "cell_type": "code",
   "execution_count": 4,
   "metadata": {},
   "outputs": [
    {
     "name": "stdout",
     "output_type": "stream",
     "text": [
      "alifia\n"
     ]
    }
   ],
   "source": [
    "print(nama[2]) # akses elemen di indeks ke-2"
   ]
  },
  {
   "cell_type": "code",
   "execution_count": 5,
   "metadata": {},
   "outputs": [
    {
     "name": "stdout",
     "output_type": "stream",
     "text": [
      "['drogba']\n"
     ]
    }
   ],
   "source": [
    "print(nama[:1]) # akses elemen dari awal sampai ke-indeks tertentu (1)"
   ]
  },
  {
   "cell_type": "code",
   "execution_count": 6,
   "metadata": {},
   "outputs": [
    {
     "name": "stdout",
     "output_type": "stream",
     "text": [
      "['alifia', 'lampard']\n"
     ]
    }
   ],
   "source": [
    "print(nama[2:]) # akses elemen dari index 2 sampai akhir"
   ]
  },
  {
   "cell_type": "code",
   "execution_count": 7,
   "metadata": {},
   "outputs": [
    {
     "name": "stdout",
     "output_type": "stream",
     "text": [
      "['drogba', 'dono', 'alifia']\n"
     ]
    }
   ],
   "source": [
    "# akses elemen menggunakan negatif indeks\n",
    "# akses elemen dari awal sampai ke-(n-1)\n",
    "\n",
    "print(nama[:-1])"
   ]
  },
  {
   "cell_type": "markdown",
   "metadata": {},
   "source": [
    "### Beberapa Metode dalam List"
   ]
  },
  {
   "cell_type": "code",
   "execution_count": 8,
   "metadata": {},
   "outputs": [],
   "source": [
    "Liverpool = [\"firmino\", \"salah\", \"mane\"]"
   ]
  },
  {
   "cell_type": "code",
   "execution_count": 9,
   "metadata": {},
   "outputs": [
    {
     "name": "stdout",
     "output_type": "stream",
     "text": [
      "['firmino', 'salah', 'mane', 'milner', 'thiago']\n"
     ]
    }
   ],
   "source": [
    "Liverpool.extend([\"milner\"]+[\"thiago\"]) # menambah elemen di dalam list\n",
    "\n",
    "print(Liverpool)      "
   ]
  },
  {
   "cell_type": "code",
   "execution_count": 10,
   "metadata": {},
   "outputs": [
    {
     "name": "stdout",
     "output_type": "stream",
     "text": [
      "['firmino', 'salah', 'mane', 'milner', 'thiago', ['fabinho', 'ismed sofyan']]\n"
     ]
    }
   ],
   "source": [
    "Liverpool.append([\"fabinho\", \"ismed sofyan\"]) # menambah elemen (list di dalam list)\n",
    "\n",
    "print(Liverpool)      "
   ]
  },
  {
   "cell_type": "code",
   "execution_count": 12,
   "metadata": {},
   "outputs": [
    {
     "name": "stdout",
     "output_type": "stream",
     "text": [
      "['firmino', 'salah', 'mane', 'milner', 'thiago']\n"
     ]
    }
   ],
   "source": [
    "Liverpool.pop(5) # menghapus elemen di dalam list\n",
    "\n",
    "print(Liverpool)"
   ]
  },
  {
   "cell_type": "code",
   "execution_count": 23,
   "metadata": {},
   "outputs": [
    {
     "name": "stdout",
     "output_type": "stream",
     "text": [
      "['nasi', 'singkong']\n"
     ]
    }
   ],
   "source": [
    "makan = [\"nasi\", \"kentang\", \"singkong\"]\n",
    "\n",
    "del makan[1]  # menghapus elemen di index 1\n",
    "print(makan)"
   ]
  },
  {
   "cell_type": "markdown",
   "metadata": {},
   "source": [
    "## List for Loops"
   ]
  },
  {
   "cell_type": "code",
   "execution_count": 28,
   "metadata": {},
   "outputs": [],
   "source": [
    "buah = [\"nanas\", \"pisang\", 'mangga']"
   ]
  },
  {
   "cell_type": "code",
   "execution_count": 29,
   "metadata": {},
   "outputs": [
    {
     "name": "stdout",
     "output_type": "stream",
     "text": [
      "nanas\n",
      "pisang\n",
      "mangga\n"
     ]
    }
   ],
   "source": [
    "for item in buah:\n",
    "    print(item)"
   ]
  },
  {
   "cell_type": "markdown",
   "metadata": {},
   "source": [
    "### Solve it!"
   ]
  },
  {
   "cell_type": "code",
   "execution_count": 17,
   "metadata": {},
   "outputs": [
    {
     "name": "stdout",
     "output_type": "stream",
     "text": [
      "1\n",
      "4\n",
      "9\n",
      "16\n",
      "25\n"
     ]
    }
   ],
   "source": [
    "utang = [1,2,3,4,5]\n",
    "\n",
    "for bunga in utang:\n",
    "    total = bunga ** 2\n",
    "    print(total)"
   ]
  },
  {
   "cell_type": "code",
   "execution_count": 18,
   "metadata": {},
   "outputs": [
    {
     "name": "stdout",
     "output_type": "stream",
     "text": [
      "[1, 4, 9, 16, 25]\n"
     ]
    }
   ],
   "source": [
    "nomor = [1,2,3,4,5]\n",
    "\n",
    "xxx = [y ** 2 for y in nomor]\n",
    "print(xxx)"
   ]
  },
  {
   "cell_type": "markdown",
   "metadata": {},
   "source": [
    "### Menghitung Rata-rata"
   ]
  },
  {
   "cell_type": "code",
   "execution_count": 19,
   "metadata": {},
   "outputs": [
    {
     "name": "stdout",
     "output_type": "stream",
     "text": [
      "Rata-rata nya adalah 4.0\n"
     ]
    }
   ],
   "source": [
    "def average(angka):\n",
    "    avg = sum(angka)/ len(angka)\n",
    "    return avg\n",
    "\n",
    "print(\"Rata-rata nya adalah\", average([2,3,5,6]))"
   ]
  },
  {
   "cell_type": "markdown",
   "metadata": {},
   "source": [
    "### Penjumlahan"
   ]
  },
  {
   "cell_type": "code",
   "execution_count": 21,
   "metadata": {},
   "outputs": [
    {
     "name": "stdout",
     "output_type": "stream",
     "text": [
      "6\n"
     ]
    }
   ],
   "source": [
    "def jumlah(nomor):\n",
    "    total = 0\n",
    "    for i in nomor:\n",
    "        total += i\n",
    "    return total\n",
    "    \n",
    "print(jumlah([1,2,3]))"
   ]
  },
  {
   "cell_type": "code",
   "execution_count": 33,
   "metadata": {},
   "outputs": [],
   "source": [
    "x = [40, 100, 1, 5, 25, 10]\n",
    "\n",
    "# for i in x:\n",
    "    "
   ]
  },
  {
   "cell_type": "code",
   "execution_count": 34,
   "metadata": {},
   "outputs": [],
   "source": [
    "x.reverse()"
   ]
  },
  {
   "cell_type": "code",
   "execution_count": 35,
   "metadata": {},
   "outputs": [
    {
     "name": "stdout",
     "output_type": "stream",
     "text": [
      "[10, 25, 5, 1, 100, 40]\n"
     ]
    }
   ],
   "source": [
    "print(x)"
   ]
  },
  {
   "cell_type": "code",
   "execution_count": 6,
   "metadata": {},
   "outputs": [
    {
     "name": "stdout",
     "output_type": "stream",
     "text": [
      " * \n",
      " *  * \n",
      " *  *  * \n"
     ]
    }
   ],
   "source": [
    "bintang = \"\"\n",
    "\n",
    "for i in range(3):\n",
    "    bintang += \" * \"\n",
    "    print(bintang)"
   ]
  },
  {
   "cell_type": "code",
   "execution_count": 12,
   "metadata": {},
   "outputs": [
    {
     "name": "stdout",
     "output_type": "stream",
     "text": [
      "14 8 2 -4 -10 -16 "
     ]
    }
   ],
   "source": [
    "angka = 14\n",
    "\n",
    "while angka >= -16:\n",
    "    print(angka, end = \" \")\n",
    "    angka -= 6"
   ]
  },
  {
   "cell_type": "code",
   "execution_count": 14,
   "metadata": {},
   "outputs": [
    {
     "name": "stdout",
     "output_type": "stream",
     "text": [
      "5,7\n",
      "7,9\n",
      "9,11\n",
      "11,13\n",
      "13,15\n",
      "15,17\n"
     ]
    }
   ],
   "source": [
    "i = 5\n",
    "\n",
    "while i <= 15:\n",
    "    print(i, end = \",\")\n",
    "    i += 2\n",
    "    \n",
    "    print(i)"
   ]
  },
  {
   "cell_type": "code",
   "execution_count": 16,
   "metadata": {},
   "outputs": [
    {
     "name": "stdout",
     "output_type": "stream",
     "text": [
      "Nomor urut 1\n",
      "Nomor urut 2\n",
      "Nomor urut 3\n",
      "Nomor urut 4\n",
      "Nomor urut 5\n",
      "Nomor urut 6\n",
      "Nomor urut 7\n",
      "Nomor urut 8\n",
      "Nomor urut 9\n",
      "Nomor urut 10\n"
     ]
    }
   ],
   "source": [
    "for i in range(10):\n",
    "    i += 1\n",
    "    print(f\"Nomor urut {i}\")"
   ]
  },
  {
   "cell_type": "code",
   "execution_count": 18,
   "metadata": {},
   "outputs": [
    {
     "name": "stdout",
     "output_type": "stream",
     "text": [
      "gazzzzzzz 0\n",
      "gazzzzzzz 2\n",
      "gazzzzzzz 4\n",
      "gazzzzzzz 6\n",
      "gazzzzzzz 8\n",
      "gazzzzzzz 10\n",
      "gazzzzzzz 12\n",
      "gazzzzzzz 14\n",
      "gazzzzzzz 16\n",
      "gazzzzzzz 18\n",
      "gazzzzzzz 20\n"
     ]
    }
   ],
   "source": [
    "for i in range(0,21,2):\n",
    "    print(f\"gazzzzzzz {i}\")"
   ]
  },
  {
   "cell_type": "code",
   "execution_count": 19,
   "metadata": {},
   "outputs": [
    {
     "name": "stdout",
     "output_type": "stream",
     "text": [
      "aku ucapkan 1 kali\n",
      "aku ucapkan 3 kali\n",
      "aku ucapkan 5 kali\n",
      "aku ucapkan 7 kali\n",
      "aku ucapkan 9 kali\n",
      "aku ucapkan 11 kali\n",
      "aku ucapkan 13 kali\n",
      "aku ucapkan 15 kali\n",
      "aku ucapkan 17 kali\n",
      "aku ucapkan 19 kali\n"
     ]
    }
   ],
   "source": [
    "for i in range(1,20,2):\n",
    "    print(f\"aku ucapkan {i} kali\")"
   ]
  },
  {
   "cell_type": "code",
   "execution_count": 21,
   "metadata": {},
   "outputs": [
    {
     "name": "stdout",
     "output_type": "stream",
     "text": [
      "1 1 1 1 1  \n",
      "1 1 1 1 1  \n",
      "1 1 1 1 1  \n"
     ]
    }
   ],
   "source": [
    "for i in range(3):      # baris\n",
    "    for j in range(5):  # kolom\n",
    "        print(1, end = \" \")\n",
    "    \n",
    "    print(\" \") # baris baru\n"
   ]
  },
  {
   "cell_type": "code",
   "execution_count": 23,
   "metadata": {},
   "outputs": [
    {
     "name": "stdout",
     "output_type": "stream",
     "text": [
      "1 2 3 4 5  \n",
      "6 7 8 9 10  \n",
      "11 12 13 14 15  \n"
     ]
    }
   ],
   "source": [
    "xxx = 1\n",
    "\n",
    "for i in range(3):\n",
    "    for j in range(5):\n",
    "        print(xxx, end = \" \")\n",
    "        xxx += 1\n",
    "        \n",
    "    print(\" \")"
   ]
  },
  {
   "cell_type": "code",
   "execution_count": 24,
   "metadata": {},
   "outputs": [
    {
     "name": "stdout",
     "output_type": "stream",
     "text": [
      " *  *  * \n"
     ]
    }
   ],
   "source": [
    "yyy = \"\"\n",
    "\n",
    "for i in range(3):\n",
    "    yyy += \" * \"\n",
    "print(yyy)"
   ]
  },
  {
   "cell_type": "code",
   "execution_count": 28,
   "metadata": {},
   "outputs": [
    {
     "name": "stdout",
     "output_type": "stream",
     "text": [
      " * \n",
      " * \n",
      " * \n"
     ]
    }
   ],
   "source": [
    "for i in range(3):\n",
    "    print(\" * \")"
   ]
  },
  {
   "cell_type": "code",
   "execution_count": 31,
   "metadata": {},
   "outputs": [
    {
     "name": "stdout",
     "output_type": "stream",
     "text": [
      "* * * * *  \n",
      "* * * * *  \n",
      "* * * * *  \n",
      "* * * * *  \n",
      "* * * * *  \n"
     ]
    }
   ],
   "source": [
    "for i in range(5):\n",
    "    for j in range(5):\n",
    "        print(\"*\", end = \" \")\n",
    "        \n",
    "    print(\" \")"
   ]
  },
  {
   "cell_type": "code",
   "execution_count": 36,
   "metadata": {},
   "outputs": [
    {
     "name": "stdout",
     "output_type": "stream",
     "text": [
      " * \n",
      " *  * \n",
      " *  *  * \n",
      " *  *  *  * \n",
      " *  *  *  *  * \n"
     ]
    }
   ],
   "source": [
    "car = \"\"\n",
    "\n",
    "for i in range(5):\n",
    "    car += \" * \"\n",
    "    print(car)"
   ]
  },
  {
   "cell_type": "code",
   "execution_count": null,
   "metadata": {},
   "outputs": [],
   "source": [
    "bbb = \"\"\n",
    "\n",
    "for i in range(5):\n",
    "    for j in "
   ]
  }
 ],
 "metadata": {
  "kernelspec": {
   "display_name": "Python 3",
   "language": "python",
   "name": "python3"
  },
  "language_info": {
   "codemirror_mode": {
    "name": "ipython",
    "version": 3
   },
   "file_extension": ".py",
   "mimetype": "text/x-python",
   "name": "python",
   "nbconvert_exporter": "python",
   "pygments_lexer": "ipython3",
   "version": "3.8.3"
  }
 },
 "nbformat": 4,
 "nbformat_minor": 4
}
