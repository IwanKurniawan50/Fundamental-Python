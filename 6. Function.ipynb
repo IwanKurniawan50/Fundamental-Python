{
 "cells": [
  {
   "cell_type": "markdown",
   "metadata": {},
   "source": [
    "# Function"
   ]
  },
  {
   "cell_type": "markdown",
   "metadata": {},
   "source": [
    "#### Sebuah algoritma yang bisa di pangil secara berulang-ulang"
   ]
  },
  {
   "cell_type": "code",
   "execution_count": 10,
   "metadata": {},
   "outputs": [],
   "source": [
    "def fungsi():\n",
    "    print(\"ini adalah fungsi\")\n",
    "    \n",
    "# tidak muncul karena belum memanggil fungsi\n",
    "# fungsi() ==> memanggil sebuah fungsi"
   ]
  },
  {
   "cell_type": "code",
   "execution_count": 11,
   "metadata": {},
   "outputs": [
    {
     "name": "stdout",
     "output_type": "stream",
     "text": [
      "Saya adalah seorang Pengusaha\n"
     ]
    }
   ],
   "source": [
    "def profesi(jenis):\n",
    "    print(\"Saya adalah seorang \" + jenis)\n",
    "    \n",
    "profesi(\"Pengusaha\")"
   ]
  },
  {
   "cell_type": "code",
   "execution_count": 6,
   "metadata": {},
   "outputs": [
    {
     "name": "stdout",
     "output_type": "stream",
     "text": [
      "saya harus cari makanan ke kantin\n"
     ]
    }
   ],
   "source": [
    "def lapar(tempat): # ===>> parameter tempat\n",
    "    print(\"saya harus cari makanan ke \" + tempat)\n",
    "\n",
    "lapar(\"kantin\")    # ===>> memanggil fungsi lapar bersama parameter"
   ]
  },
  {
   "cell_type": "code",
   "execution_count": 20,
   "metadata": {},
   "outputs": [
    {
     "name": "stdout",
     "output_type": "stream",
     "text": [
      "Kapan bayar?\n",
      "None\n"
     ]
    }
   ],
   "source": [
    "def bayar(utang, uang):\n",
    "    if uang >= utang:\n",
    "        return uang - utang\n",
    "    else:\n",
    "        print(\"Kapan bayar?\")\n",
    "        \n",
    "print(bayar(9,8))"
   ]
  },
  {
   "cell_type": "code",
   "execution_count": 18,
   "metadata": {},
   "outputs": [
    {
     "name": "stdout",
     "output_type": "stream",
     "text": [
      "Siapa nama anda? rooney\n",
      "Dimana anda lahir? england\n",
      "Kapan anda lahir? 30-2-1978\n",
      "Halo nama saya adalah rooney dan saya lahir di england 30-2-1978\n"
     ]
    }
   ],
   "source": [
    "nama = input(\"Siapa nama anda? \")\n",
    "tempat = input(\"Dimana anda lahir? \")\n",
    "tgl = input(\"Kapan anda lahir? \")\n",
    "\n",
    "def biodata(nama,tempat,tgl):\n",
    "    print(f\"Halo nama saya adalah {nama} dan saya lahir di {tempat} {tgl}\")\n",
    "    \n",
    "biodata(nama,tempat,tgl)\n",
    "    "
   ]
  },
  {
   "cell_type": "code",
   "execution_count": null,
   "metadata": {},
   "outputs": [],
   "source": []
  }
 ],
 "metadata": {
  "kernelspec": {
   "display_name": "Python 3",
   "language": "python",
   "name": "python3"
  },
  "language_info": {
   "codemirror_mode": {
    "name": "ipython",
    "version": 3
   },
   "file_extension": ".py",
   "mimetype": "text/x-python",
   "name": "python",
   "nbconvert_exporter": "python",
   "pygments_lexer": "ipython3",
   "version": "3.8.3"
  }
 },
 "nbformat": 4,
 "nbformat_minor": 4
}
