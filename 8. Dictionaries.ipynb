{
 "cells": [
  {
   "cell_type": "markdown",
   "metadata": {},
   "source": [
    "### Dictionaries"
   ]
  },
  {
   "cell_type": "markdown",
   "metadata": {},
   "source": [
    "##### General"
   ]
  },
  {
   "cell_type": "code",
   "execution_count": 3,
   "metadata": {},
   "outputs": [
    {
     "name": "stdout",
     "output_type": "stream",
     "text": [
      "{'sayur': 'bayam', 'buah': 'nanas', 'protein': ['hewani', 'nabati']}\n"
     ]
    }
   ],
   "source": [
    "makanan = {\"sayur\" : \"bayam\",\n",
    "           \"buah\" : \"nanas\", \n",
    "           \"protein\" : [\"hewani\", \"nabati\"]}\n",
    "\n",
    "print(makanan)"
   ]
  },
  {
   "cell_type": "markdown",
   "metadata": {},
   "source": [
    "##### Didefinisikan sebagai fungsi"
   ]
  },
  {
   "cell_type": "code",
   "execution_count": 4,
   "metadata": {},
   "outputs": [
    {
     "name": "stdout",
     "output_type": "stream",
     "text": [
      "{'nama': 'dono', 'pekerjaan': 'bisnis', 'umur': 26}\n"
     ]
    }
   ],
   "source": [
    "biodata = dict(nama = \"dono\",\n",
    "              pekerjaan = \"bisnis\",\n",
    "              umur = 26)\n",
    "\n",
    "print(biodata)"
   ]
  },
  {
   "cell_type": "markdown",
   "metadata": {},
   "source": [
    "##### Menggunakan zip"
   ]
  },
  {
   "cell_type": "code",
   "execution_count": 6,
   "metadata": {},
   "outputs": [
    {
     "name": "stdout",
     "output_type": "stream",
     "text": [
      "{'nama': 'delta', 'status': 'negeri', 'alamat': 'cirendeu'}\n"
     ]
    }
   ],
   "source": [
    "sekolah = dict(zip([\"nama\", \"status\", \"alamat\"],\n",
    "                  [\"delta\", \"negeri\", \"cirendeu\"]))\n",
    "\n",
    "print(sekolah)"
   ]
  },
  {
   "cell_type": "markdown",
   "metadata": {},
   "source": [
    "###"
   ]
  },
  {
   "cell_type": "markdown",
   "metadata": {},
   "source": [
    "Di dalam dictionary kebanyakan menggunakan yang General"
   ]
  },
  {
   "cell_type": "markdown",
   "metadata": {},
   "source": [
    "###"
   ]
  },
  {
   "cell_type": "markdown",
   "metadata": {},
   "source": [
    "### Nested Dictionaries"
   ]
  },
  {
   "cell_type": "code",
   "execution_count": 10,
   "metadata": {},
   "outputs": [
    {
     "name": "stdout",
     "output_type": "stream",
     "text": [
      "{'asia': {'asia_selatan': ['indonesia'], 'asia_timur': ['jepang']}, 'eropa': ['italia', 'jerman']}\n"
     ]
    }
   ],
   "source": [
    "negara = {\"asia\" : {\"asia_selatan\" : [\"indonesia\"],\n",
    "                    \"asia_timur\" : [\"jepang\"]},\n",
    "         \"eropa\" : [\"italia\", \"jerman\"]}\n",
    "\n",
    "print(negara)"
   ]
  },
  {
   "cell_type": "markdown",
   "metadata": {},
   "source": [
    "### Metode di dalam Dictionary"
   ]
  },
  {
   "cell_type": "code",
   "execution_count": 1,
   "metadata": {},
   "outputs": [
    {
     "name": "stdout",
     "output_type": "stream",
     "text": [
      "dict_items([('wildan', 'smart'), ('ale', 'leader'), ('bimo', 'pemabuk')])\n"
     ]
    }
   ],
   "source": [
    "teman = {\"wildan\" : \"smart\",\n",
    "        \"ale\" : \"leader\",\n",
    "        \"bimo\" : \"pemabuk\"}\n",
    "\n",
    "#print(teman.keys()) # menampilkan seluruh key\n",
    "#print(teman.values()) # menampilkan seluruh value\n",
    "#print(teman.items()) # menampilkan key & value\n",
    "#print(teman)"
   ]
  },
  {
   "cell_type": "markdown",
   "metadata": {},
   "source": [
    "##### Cases"
   ]
  },
  {
   "cell_type": "code",
   "execution_count": 1,
   "metadata": {},
   "outputs": [
    {
     "name": "stdout",
     "output_type": "stream",
     "text": [
      "{'twenty': 10, 'thirty': 20, 'ten': 30}\n"
     ]
    }
   ],
   "source": [
    "alphabet = {\"ten\", \"twenty\", \"thirty\"}\n",
    "number = [10, 20, 30]\n",
    "\n",
    "data = dict(zip(alphabet,number))  # zip ==>> menyatukan 2 variabel\n",
    "\n",
    "print(data)"
   ]
  },
  {
   "cell_type": "code",
   "execution_count": 1,
   "metadata": {},
   "outputs": [
    {
     "name": "stdout",
     "output_type": "stream",
     "text": [
      "Physics\n"
     ]
    }
   ],
   "source": [
    "nilai = {\n",
    "  'Physics': 12,\n",
    "  'Math': 65,\n",
    "  'history': 75\n",
    "}\n",
    "\n",
    "print(min(nilai, key = nilai.get)) # menampilkan nilai minimal dari dict diatas"
   ]
  },
  {
   "cell_type": "code",
   "execution_count": 3,
   "metadata": {},
   "outputs": [
    {
     "name": "stdout",
     "output_type": "stream",
     "text": [
      "{'class': {'student': {'name': 'mike', 'marks': {'physics': 70, 'history': 80}}}}\n",
      "80\n"
     ]
    }
   ],
   "source": [
    "database = {\"class\" : {\"student\" : {\"name\" : \"mike\", \"marks\" : {\"physics\" : 70, \"history\" : 80}}}}\n",
    "\n",
    "print(database)\n",
    "print(database[\"class\"][\"student\"][\"marks\"][\"history\"]) # mengambil nilai di dalamnya"
   ]
  },
  {
   "cell_type": "code",
   "execution_count": 4,
   "metadata": {},
   "outputs": [
    {
     "name": "stdout",
     "output_type": "stream",
     "text": [
      "{'name': 'kelly', 'age': 34, 'salary': 900, 'location': 'new york'}\n"
     ]
    }
   ],
   "source": [
    "data = {\"name\" : \"kelly\",\n",
    "       \"age\" : 34,\n",
    "       \"salary\" : 900,\n",
    "       \"city\" : \"new york\"}\n",
    "\n",
    "data[\"location\"] = data.pop(\"city\") # mengganti \"city\" dengan \"location\"\n",
    "print(data)"
   ]
  },
  {
   "cell_type": "code",
   "execution_count": 5,
   "metadata": {},
   "outputs": [
    {
     "name": "stdout",
     "output_type": "stream",
     "text": [
      "{'emp1': {'nama': 'iky', 'salary': 7000}, 'emp2': {'nama': 'bagus', 'salary': 5000}, 'emp3': {'nama': 'nisa', 'salary': 6000}}\n"
     ]
    }
   ],
   "source": [
    "base = {\n",
    "    \"emp1\" : {\"nama\" : \"iky\", \"salary\" : 7000},\n",
    "    \"emp2\" : {\"nama\" : \"bagus\", \"salary\" : 5000},\n",
    "    \"emp3\" : {\"nama\" : \"nisa\", \"salary\" : 4000}\n",
    "    }\n",
    "\n",
    "base[\"emp3\"][\"salary\"] = 6000 # mengganti value dalam \"emp3\" \"salary\"\n",
    "print(base)"
   ]
  }
 ],
 "metadata": {
  "kernelspec": {
   "display_name": "Python 3",
   "language": "python",
   "name": "python3"
  },
  "language_info": {
   "codemirror_mode": {
    "name": "ipython",
    "version": 3
   },
   "file_extension": ".py",
   "mimetype": "text/x-python",
   "name": "python",
   "nbconvert_exporter": "python",
   "pygments_lexer": "ipython3",
   "version": "3.8.3"
  }
 },
 "nbformat": 4,
 "nbformat_minor": 4
}
