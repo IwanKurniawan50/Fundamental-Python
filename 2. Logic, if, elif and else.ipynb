{
 "cells": [
  {
   "cell_type": "markdown",
   "metadata": {},
   "source": [
    "# Logic"
   ]
  },
  {
   "cell_type": "code",
   "execution_count": 1,
   "metadata": {},
   "outputs": [
    {
     "name": "stdout",
     "output_type": "stream",
     "text": [
      "False\n",
      "False\n",
      "True\n",
      "False\n",
      "True\n"
     ]
    }
   ],
   "source": [
    "x = 5\n",
    "y = '5'\n",
    "\n",
    "print(x == y) #\n",
    "print(x > int(y))\n",
    "print(x >= int(y)) #salah satu operator bisa di eksekusi\n",
    "print(x < int(y))\n",
    "print(x <= int(y))"
   ]
  },
  {
   "cell_type": "markdown",
   "metadata": {},
   "source": [
    "# IF, ELIF & ELSE"
   ]
  },
  {
   "cell_type": "markdown",
   "metadata": {},
   "source": [
    "#### Merupakan sebuah kondisi, yang akan menentukan jalannya perintah"
   ]
  },
  {
   "cell_type": "markdown",
   "metadata": {},
   "source": [
    "## Bilangan Ganjil Genap"
   ]
  },
  {
   "cell_type": "code",
   "execution_count": 3,
   "metadata": {},
   "outputs": [
    {
     "name": "stdout",
     "output_type": "stream",
     "text": [
      "Masukkan angka : 7\n",
      "Angka 7 tergolong bilangan GANJIL\n"
     ]
    }
   ],
   "source": [
    "# jika kondisi benar, akan di eksekusi oleh \"if\"\n",
    "# namun jika kondisi salah akan langsung di eksekusi oleh \"else\"\n",
    "\n",
    "angka = int(input(\"Masukkan angka : \"))\n",
    "\n",
    "if angka % 2 == 0:          \n",
    "    print(f\"Angka {angka} tergolong bilangan GENAP\")\n",
    "else:                            \n",
    "    print(f\"Angka {angka} tergolong bilangan GANJIL\")\n",
    "    \n",
    "    "
   ]
  },
  {
   "cell_type": "markdown",
   "metadata": {},
   "source": [
    "## Indeks Masa Tubuh"
   ]
  },
  {
   "cell_type": "code",
   "execution_count": 11,
   "metadata": {},
   "outputs": [
    {
     "name": "stdout",
     "output_type": "stream",
     "text": [
      "Masukkan Massa(kg) : 90\n",
      "Masukkan Tinggi(cm) : 170\n",
      "berat badan sangat berlebih\n",
      "31.14186851211073\n"
     ]
    }
   ],
   "source": [
    "berat = int(input(\"Masukkan Massa(kg) : \"))\n",
    "tinggi = int(input(\"Masukkan Tinggi(cm) : \"))\n",
    "IMT = berat/ (tinggi/100)**2\n",
    "\n",
    "if IMT < 18.5:\n",
    "    print(\"berat badan kurang\")\n",
    "elif IMT >= 18.5 and IMT <= 24.9:\n",
    "    print(\"berat badan ideal\")\n",
    "elif IMT >= 25 and IMT <= 29.9:\n",
    "    print(\"berat badan berlebih\")\n",
    "elif IMT >= 30 and IMT <= 39.9:\n",
    "    print(\"berat badan sangat berlebih\")\n",
    "elif IMT > 39.9:\n",
    "    print(\"obesitas\")\n",
    "else:\n",
    "    print(\"error\")\n",
    "    \n",
    "print(IMT)"
   ]
  },
  {
   "cell_type": "markdown",
   "metadata": {},
   "source": [
    "## Generasi"
   ]
  },
  {
   "cell_type": "code",
   "execution_count": 13,
   "metadata": {},
   "outputs": [
    {
     "name": "stdout",
     "output_type": "stream",
     "text": [
      "Masukkan nama anda : maman\n",
      "Tahun berapa anda lahir? 1992\n",
      "maman anda adalah Generasi Y (Millenials)\n"
     ]
    }
   ],
   "source": [
    "nama = input(\"Masukkan nama anda : \")\n",
    "tahun = int(input(\"Tahun berapa anda lahir? \"))\n",
    "\n",
    "if tahun >= 1994 and tahun <= 1964:\n",
    "    print(nama, \"anda adalah Generasi boomer\")\n",
    "elif tahun >= 1965 and tahun <= 1979:\n",
    "    print(nama, \"anda adalah Generasi X\")\n",
    "elif tahun >= 1980 and tahun <= 1994:\n",
    "    print(nama, \"anda adalah Generasi Y (Millenials)\")\n",
    "elif tahun >= 1995 and tahun >= 2015:\n",
    "    print(nama, \"anda adalah Generasi Z\")\n",
    "else:\n",
    "    print(\"error\")\n"
   ]
  },
  {
   "cell_type": "markdown",
   "metadata": {},
   "source": [
    "## Bubur Ayam"
   ]
  },
  {
   "cell_type": "code",
   "execution_count": 23,
   "metadata": {},
   "outputs": [
    {
     "name": "stdout",
     "output_type": "stream",
     "text": [
      "Apakah anda suka bubur ayam? (ya/ tidak)tidak\n",
      "cobain deh, gue ada saran bubur yg enak\n",
      "mau coba ngga? (mau/ ga)ga\n",
      "okee dehh\n"
     ]
    }
   ],
   "source": [
    "question = input(\"Apakah anda suka bubur ayam? (ya/ tidak)\")\n",
    "\n",
    "if question != \"ya\":\n",
    "    print(\"cobain deh, gue ada saran bubur yg enak\")\n",
    "    coba = input(\"mau coba ngga? (mau/ ga)\")\n",
    "    if coba == \"mau\":\n",
    "        print(\"oke nanti gue tlp ya\")\n",
    "    else:\n",
    "        print(\"okee dehh\")\n",
    "elif \"ya\":\n",
    "    ya = (input(\"diaduk/ engga?\"))\n",
    "    if ya == \"diaduk\":\n",
    "        print(\"anda pemberani\")\n",
    "    else:\n",
    "        print(\"anda suka keindahan\")"
   ]
  },
  {
   "cell_type": "code",
   "execution_count": null,
   "metadata": {},
   "outputs": [],
   "source": []
  }
 ],
 "metadata": {
  "kernelspec": {
   "display_name": "Python 3",
   "language": "python",
   "name": "python3"
  },
  "language_info": {
   "codemirror_mode": {
    "name": "ipython",
    "version": 3
   },
   "file_extension": ".py",
   "mimetype": "text/x-python",
   "name": "python",
   "nbconvert_exporter": "python",
   "pygments_lexer": "ipython3",
   "version": "3.8.3"
  }
 },
 "nbformat": 4,
 "nbformat_minor": 4
}
