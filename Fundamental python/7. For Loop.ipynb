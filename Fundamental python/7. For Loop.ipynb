{
 "cells": [
  {
   "cell_type": "markdown",
   "metadata": {},
   "source": [
    "# For Loop"
   ]
  },
  {
   "cell_type": "markdown",
   "metadata": {},
   "source": [
    "#### Variabel untuk (for) umumnya bersifat list"
   ]
  },
  {
   "cell_type": "code",
   "execution_count": 2,
   "metadata": {},
   "outputs": [
    {
     "name": "stdout",
     "output_type": "stream",
     "text": [
      "[0, 1, 2, 3, 4, 5, 6, 7, 8, 9]\n"
     ]
    }
   ],
   "source": [
    "list1 = list(range(10)) # list index dimulai dari 0\n",
    "\n",
    "print(list1)"
   ]
  },
  {
   "cell_type": "code",
   "execution_count": 1,
   "metadata": {},
   "outputs": [
    {
     "name": "stdout",
     "output_type": "stream",
     "text": [
      "[2, 3, 4, 5, 6, 7]\n"
     ]
    }
   ],
   "source": [
    "list2 = list(range(2,8)) # start - stop\n",
    "\n",
    "print(list2)"
   ]
  },
  {
   "cell_type": "code",
   "execution_count": 2,
   "metadata": {},
   "outputs": [
    {
     "name": "stdout",
     "output_type": "stream",
     "text": [
      "[4, 6, 8, 10, 12, 14]\n"
     ]
    }
   ],
   "source": [
    "list3 = list(range(4,15,2)) # start - stop - space\n",
    "                            # isi variabel list3 bertipe data list dengan range 1-10 dan space 2\n",
    "print(list3)                # akan mencetak isi di vaiabel list3"
   ]
  },
  {
   "cell_type": "markdown",
   "metadata": {},
   "source": [
    "#### Fungsi Looping"
   ]
  },
  {
   "cell_type": "code",
   "execution_count": 3,
   "metadata": {},
   "outputs": [
    {
     "name": "stdout",
     "output_type": "stream",
     "text": [
      "h\n",
      "a\n",
      "i\n"
     ]
    }
   ],
   "source": [
    "for i in \"hai\":\n",
    "    print(i)"
   ]
  },
  {
   "cell_type": "code",
   "execution_count": 4,
   "metadata": {},
   "outputs": [
    {
     "name": "stdout",
     "output_type": "stream",
     "text": [
      "selamat pagi"
     ]
    }
   ],
   "source": [
    "for i in \"selamat pagi\":\n",
    "    print(i, end=\"\") # gunakan end=\"\" untuk mencetak langsung setelahnya"
   ]
  },
  {
   "cell_type": "code",
   "execution_count": 5,
   "metadata": {},
   "outputs": [
    {
     "name": "stdout",
     "output_type": "stream",
     "text": [
      "0\n",
      "1\n",
      "2\n",
      "3\n"
     ]
    }
   ],
   "source": [
    "angka = list(range(4))\n",
    "\n",
    "for i in angka:\n",
    "    print(i)"
   ]
  },
  {
   "cell_type": "code",
   "execution_count": 13,
   "metadata": {},
   "outputs": [
    {
     "name": "stdout",
     "output_type": "stream",
     "text": [
      "hasil iterasi ke 0 adalah 0\n",
      "hasil iterasi ke 1 adalah 1\n",
      "hasil iterasi ke 2 adalah 3\n",
      "hasil iterasi ke 3 adalah 6\n"
     ]
    }
   ],
   "source": [
    "jumlah = 0\n",
    "\n",
    "for i in angka:    \n",
    "    jumlah = jumlah + i\n",
    "    print(f\"hasil iterasi ke {i} adalah {jumlah}\")"
   ]
  },
  {
   "cell_type": "code",
   "execution_count": 16,
   "metadata": {},
   "outputs": [
    {
     "name": "stdout",
     "output_type": "stream",
     "text": [
      "hasil penjumlahan pada angka adalah 6\n"
     ]
    }
   ],
   "source": [
    "jumlah = 0\n",
    "\n",
    "for i in angka:    \n",
    "    jumlah = jumlah + i\n",
    "print(f\"hasil penjumlahan pada angka adalah {jumlah}\")"
   ]
  },
  {
   "cell_type": "code",
   "execution_count": 12,
   "metadata": {},
   "outputs": [
    {
     "name": "stdout",
     "output_type": "stream",
     "text": [
      "ini urutan ke 1\n",
      "ini urutan ke 3\n",
      "ini urutan ke 5\n",
      "ini urutan ke 7\n",
      "ini urutan ke 9\n"
     ]
    }
   ],
   "source": [
    "list5 = list(range(1,10,2))\n",
    "\n",
    "for x in list5:\n",
    "    print(f\"ini urutan ke {x}\")"
   ]
  },
  {
   "cell_type": "code",
   "execution_count": 10,
   "metadata": {},
   "outputs": [
    {
     "name": "stdout",
     "output_type": "stream",
     "text": [
      "6\n",
      "5\n",
      "4\n",
      "3\n",
      "2\n"
     ]
    }
   ],
   "source": [
    "list6 = list(range(6,1,-1))\n",
    "\n",
    "for y in list6:\n",
    "\n",
    "    print(y)"
   ]
  },
  {
   "cell_type": "code",
   "execution_count": 35,
   "metadata": {},
   "outputs": [
    {
     "name": "stdout",
     "output_type": "stream",
     "text": [
      "ada huruf a di index ke-3\n",
      "ada huruf a di index ke-5\n",
      "ada huruf a di index ke-9\n",
      "ada huruf a di index ke-11\n"
     ]
    }
   ],
   "source": [
    "kalimat = \"selamat malam\"\n",
    "indeks = 0\n",
    "\n",
    "for i in kalimat:\n",
    "    if i == \"a\":\n",
    "        print(f\"ada huruf a di index ke-{indeks}\")\n",
    "    indeks += 1"
   ]
  },
  {
   "cell_type": "code",
   "execution_count": 22,
   "metadata": {},
   "outputs": [
    {
     "name": "stdout",
     "output_type": "stream",
     "text": [
      "1 adalah angka ganjil\n",
      "2 adalah angka genap\n",
      "3 adalah angka ganjil\n",
      "4 adalah angka genap\n",
      "5 adalah angka ganjil\n",
      "6 adalah angka genap\n",
      "7 adalah angka ganjil\n",
      "8 adalah angka genap\n",
      "9 adalah angka ganjil\n",
      "10 adalah angka genap\n"
     ]
    }
   ],
   "source": [
    "uangka = list(range(1,11))\n",
    "\n",
    "for i in uangka:\n",
    "    if i % 2 == 0:\n",
    "        print(f\"{i} adalah angka genap\")\n",
    "    else:\n",
    "        print(f\"{i} adalah angka ganjil\")"
   ]
  },
  {
   "cell_type": "code",
   "execution_count": 31,
   "metadata": {},
   "outputs": [
    {
     "name": "stdout",
     "output_type": "stream",
     "text": [
      "1 adalah angka ganjil\n",
      "3 adalah angka ganjil\n",
      "5 adalah angka ganjil\n",
      "7 adalah angka ganjil\n",
      "9 adalah angka ganjil\n"
     ]
    }
   ],
   "source": [
    "uangka = list(range(1,11))\n",
    "\n",
    "for i in uangka:\n",
    "    if i % 2 == 0:\n",
    "        continue\n",
    "    else:\n",
    "        print(f\"{i} adalah angka ganjil\")"
   ]
  },
  {
   "cell_type": "code",
   "execution_count": 33,
   "metadata": {},
   "outputs": [
    {
     "name": "stdout",
     "output_type": "stream",
     "text": [
      "xxx hehe"
     ]
    }
   ],
   "source": [
    "for i in \"xixixi hehe\":\n",
    "    if i == \"i\":\n",
    "        pass\n",
    "    else:\n",
    "        print(i,end=\"\")"
   ]
  },
  {
   "cell_type": "code",
   "execution_count": 24,
   "metadata": {},
   "outputs": [
    {
     "name": "stdout",
     "output_type": "stream",
     "text": [
      "(1, 2)\n",
      "(3, 4)\n",
      "(5, 6)\n"
     ]
    }
   ],
   "source": [
    "box = ((1,2),(3,4),(5,6)) # tuple\n",
    "\n",
    "for i in box:\n",
    "    print(i)"
   ]
  },
  {
   "cell_type": "code",
   "execution_count": 28,
   "metadata": {},
   "outputs": [
    {
     "name": "stdout",
     "output_type": "stream",
     "text": [
      "1 2\n",
      "3 4\n",
      "5 6\n"
     ]
    }
   ],
   "source": [
    "for i, j in box:\n",
    "    print(i,j)"
   ]
  },
  {
   "cell_type": "code",
   "execution_count": 29,
   "metadata": {},
   "outputs": [
    {
     "name": "stdout",
     "output_type": "stream",
     "text": [
      "1\n",
      "2\n",
      "3\n",
      "4\n",
      "5\n",
      "6\n"
     ]
    }
   ],
   "source": [
    "for i, j in box:\n",
    "    print(i)\n",
    "    print(j)"
   ]
  },
  {
   "cell_type": "code",
   "execution_count": 25,
   "metadata": {},
   "outputs": [
    {
     "name": "stdout",
     "output_type": "stream",
     "text": [
      "1\n",
      "2\n",
      "3\n",
      "4\n",
      "5\n",
      "6\n"
     ]
    }
   ],
   "source": [
    "for i in box:\n",
    "    for j in i:\n",
    "        print(j)"
   ]
  },
  {
   "cell_type": "code",
   "execution_count": 26,
   "metadata": {},
   "outputs": [
    {
     "name": "stdout",
     "output_type": "stream",
     "text": [
      "123456"
     ]
    }
   ],
   "source": [
    "for i in box:\n",
    "    for j in i:\n",
    "        print(j, end=\"\")"
   ]
  },
  {
   "cell_type": "code",
   "execution_count": 30,
   "metadata": {},
   "outputs": [
    {
     "name": "stdout",
     "output_type": "stream",
     "text": [
      "a\n",
      "b\n",
      "c\n"
     ]
    }
   ],
   "source": [
    "bobox = ((1,2,\"a\"),(3,4,\"b\"),(5,6,\"c\"))\n",
    "\n",
    "for i,j,k in bobox:\n",
    "    print(k)"
   ]
  },
  {
   "cell_type": "code",
   "execution_count": 34,
   "metadata": {},
   "outputs": [
    {
     "name": "stdout",
     "output_type": "stream",
     "text": [
      "sekarang ada di angka 0\n",
      "lanjutttttt\n",
      "sekarang ada di angka 1\n",
      "lanjutttttt\n",
      "sekarang ada di angka 2\n",
      "lanjutttttt\n",
      "sekarang ada di angka 3\n",
      "lanjutttttt\n",
      "sekarang ada di angka 4\n",
      "ketemu deeeeh\n",
      "percobaan sebanyak 5 kali\n"
     ]
    }
   ],
   "source": [
    "number = 4                # membuat variabel integer 4\n",
    "\n",
    "for i in range(10):      # ulangi i di range 212\n",
    "    print(f\"sekarang ada di angka {i}\") # cetak objek dan i (berarti dimulai dari 0 sampai 211)\n",
    "    percobaan = i + 1     # membuat variabel percobaan, dengan isi i ditambah 1\n",
    "    \n",
    "    if i == number:             # jika i sama dengan number\n",
    "        print(\"ketemu deeeeh\")  # print objek\n",
    "        print(f\"percobaan sebanyak {percobaan} kali\") # cetak objek  \n",
    "        break                   # jika kondisi di eksekusi lakukan break (berhenti)\n",
    "    else:                       # jika kondisi false\n",
    "        print(\"lanjutttttt\")    # print objek "
   ]
  },
  {
   "cell_type": "markdown",
   "metadata": {},
   "source": [
    "## Enumerate"
   ]
  },
  {
   "cell_type": "raw",
   "metadata": {},
   "source": [
    "- output berupa tuples"
   ]
  },
  {
   "cell_type": "code",
   "execution_count": 37,
   "metadata": {},
   "outputs": [
    {
     "name": "stdout",
     "output_type": "stream",
     "text": [
      "karakter a ada di index ke-0\n",
      "karakter b ada di index ke-1\n",
      "karakter c ada di index ke-2\n",
      "karakter d ada di index ke-3\n",
      "karakter e ada di index ke-4\n"
     ]
    }
   ],
   "source": [
    "indeks = 0\n",
    "\n",
    "for i in \"abcde\":\n",
    "    print(f\"karakter {i} ada di index ke-{indeks}\")\n",
    "    indeks += 1"
   ]
  },
  {
   "cell_type": "code",
   "execution_count": 38,
   "metadata": {},
   "outputs": [
    {
     "name": "stdout",
     "output_type": "stream",
     "text": [
      "(0, 'j')\n",
      "(1, 'a')\n",
      "(2, 'n')\n",
      "(3, 'g')\n",
      "(4, 'a')\n",
      "(5, 'n')\n",
      "(6, ' ')\n",
      "(7, 'b')\n",
      "(8, 'a')\n",
      "(9, 'n')\n",
      "(10, 'y')\n",
      "(11, 'a')\n",
      "(12, 'k')\n",
      "(13, ' ')\n",
      "(14, 'r')\n",
      "(15, 'i')\n",
      "(16, 'b')\n",
      "(17, 'u')\n",
      "(18, 't')\n"
     ]
    }
   ],
   "source": [
    "# akan langsung mencetak index\n",
    "# hasil berupa tuple\n",
    "\n",
    "kata_kata = \"jangan banyak ribut\"\n",
    "\n",
    "for i in enumerate(kata_kata):\n",
    "    print(i)"
   ]
  },
  {
   "cell_type": "code",
   "execution_count": 44,
   "metadata": {},
   "outputs": [
    {
     "name": "stdout",
     "output_type": "stream",
     "text": [
      "0\n",
      "h\n",
      "1\n",
      "a\n",
      "2\n",
      "i\n",
      "3\n",
      " \n",
      "4\n",
      "b\n",
      "5\n",
      "a\n",
      "6\n",
      "b\n",
      "7\n",
      "e\n"
     ]
    }
   ],
   "source": [
    "for i,j in enumerate(\"hai babe\"):\n",
    "    print(i) # index\n",
    "    print(j) # value\n",
    "    "
   ]
  },
  {
   "cell_type": "markdown",
   "metadata": {},
   "source": [
    "## Zip"
   ]
  },
  {
   "cell_type": "raw",
   "metadata": {},
   "source": [
    "- output berupa tuples"
   ]
  },
  {
   "cell_type": "code",
   "execution_count": 45,
   "metadata": {},
   "outputs": [
    {
     "name": "stdout",
     "output_type": "stream",
     "text": [
      "(1, 'a')\n",
      "(2, 'b')\n",
      "(3, 'c')\n",
      "(4, 'd')\n",
      "(5, 'e')\n"
     ]
    }
   ],
   "source": [
    "kolam1 = [1,2,3,4,5]\n",
    "kolam2 = [\"a\",\"b\",\"c\",\"d\",\"e\"]\n",
    "\n",
    "for i in zip(kolam1,kolam2):\n",
    "    print(i)"
   ]
  },
  {
   "cell_type": "code",
   "execution_count": 46,
   "metadata": {},
   "outputs": [
    {
     "name": "stdout",
     "output_type": "stream",
     "text": [
      "(1, 'a', 10)\n",
      "(2, 'b', 20)\n",
      "(3, 'c', 30)\n",
      "(4, 'd', 40)\n",
      "(5, 'e', 50)\n"
     ]
    }
   ],
   "source": [
    "kolam1 = [1,2,3,4,5]\n",
    "kolam2 = [\"a\",\"b\",\"c\",\"d\",\"e\"]\n",
    "kolam3 = [10,20,30,40,50]\n",
    "\n",
    "for i in zip(kolam1,kolam2,kolam3):\n",
    "    print(i)"
   ]
  },
  {
   "cell_type": "code",
   "execution_count": 47,
   "metadata": {},
   "outputs": [
    {
     "data": {
      "text/plain": [
       "[(1, 10), (2, 20), (3, 30), (4, 40), (5, 50)]"
      ]
     },
     "execution_count": 47,
     "metadata": {},
     "output_type": "execute_result"
    }
   ],
   "source": [
    "# bisa dirubah menjadi list\n",
    "\n",
    "list(zip(kolam1,kolam3))"
   ]
  },
  {
   "cell_type": "markdown",
   "metadata": {},
   "source": [
    "## item checking"
   ]
  },
  {
   "cell_type": "code",
   "execution_count": 48,
   "metadata": {},
   "outputs": [
    {
     "data": {
      "text/plain": [
       "True"
      ]
     },
     "execution_count": 48,
     "metadata": {},
     "output_type": "execute_result"
    }
   ],
   "source": [
    "motivasi = \"yaudahlah\"\n",
    "\n",
    "\"l\" in motivasi"
   ]
  },
  {
   "cell_type": "code",
   "execution_count": 49,
   "metadata": {},
   "outputs": [
    {
     "data": {
      "text/plain": [
       "False"
      ]
     },
     "execution_count": 49,
     "metadata": {},
     "output_type": "execute_result"
    }
   ],
   "source": [
    "\"x\" in motivasi"
   ]
  },
  {
   "cell_type": "code",
   "execution_count": 50,
   "metadata": {},
   "outputs": [
    {
     "data": {
      "text/plain": [
       "True"
      ]
     },
     "execution_count": 50,
     "metadata": {},
     "output_type": "execute_result"
    }
   ],
   "source": [
    "pazang = {\"x\" : 2000,\n",
    "         \"y\" : 8000}\n",
    "\n",
    "\"x\" in pazang"
   ]
  },
  {
   "cell_type": "code",
   "execution_count": 51,
   "metadata": {},
   "outputs": [
    {
     "data": {
      "text/plain": [
       "False"
      ]
     },
     "execution_count": 51,
     "metadata": {},
     "output_type": "execute_result"
    }
   ],
   "source": [
    "\"a\" in pazang"
   ]
  },
  {
   "cell_type": "code",
   "execution_count": 53,
   "metadata": {},
   "outputs": [
    {
     "data": {
      "text/plain": [
       "True"
      ]
     },
     "execution_count": 53,
     "metadata": {},
     "output_type": "execute_result"
    }
   ],
   "source": [
    "2000 in pazang.values()"
   ]
  },
  {
   "cell_type": "markdown",
   "metadata": {},
   "source": [
    "# Nested Loop"
   ]
  },
  {
   "cell_type": "code",
   "execution_count": 23,
   "metadata": {},
   "outputs": [
    {
     "name": "stdout",
     "output_type": "stream",
     "text": [
      "1 2  \n",
      "3 4  \n",
      "5 6  \n"
     ]
    }
   ],
   "source": [
    "love = 1\n",
    "\n",
    "for i in range(3):\n",
    "    for j in range(2):\n",
    "        print(love, end = \" \")\n",
    "        love += 1\n",
    "        \n",
    "    print(\" \")"
   ]
  },
  {
   "cell_type": "code",
   "execution_count": 54,
   "metadata": {},
   "outputs": [
    {
     "data": {
      "text/plain": [
       "[1, 2, 3, 4, 5]"
      ]
     },
     "execution_count": 54,
     "metadata": {},
     "output_type": "execute_result"
    }
   ],
   "source": [
    "kursi = []\n",
    "\n",
    "for i in range(1,6):\n",
    "    kursi.append(i)\n",
    "    \n",
    "kursi"
   ]
  },
  {
   "cell_type": "code",
   "execution_count": 57,
   "metadata": {},
   "outputs": [
    {
     "data": {
      "text/plain": [
       "[2, 4, 6]"
      ]
     },
     "execution_count": 57,
     "metadata": {},
     "output_type": "execute_result"
    }
   ],
   "source": [
    "meja = [i for i in range(2,8,2)]\n",
    "meja"
   ]
  },
  {
   "cell_type": "code",
   "execution_count": 62,
   "metadata": {},
   "outputs": [
    {
     "data": {
      "text/plain": [
       "[4, 8, 12]"
      ]
     },
     "execution_count": 62,
     "metadata": {},
     "output_type": "execute_result"
    }
   ],
   "source": [
    "meja2 = [(i*2) for i in range(2,8,2)]\n",
    "meja2"
   ]
  },
  {
   "cell_type": "code",
   "execution_count": 65,
   "metadata": {},
   "outputs": [
    {
     "data": {
      "text/plain": [
       "[2, 4, 6]"
      ]
     },
     "execution_count": 65,
     "metadata": {},
     "output_type": "execute_result"
    }
   ],
   "source": [
    "kasur = [i for i in range(2,8) if i%2 == 0]\n",
    "kasur"
   ]
  },
  {
   "cell_type": "code",
   "execution_count": 63,
   "metadata": {},
   "outputs": [
    {
     "data": {
      "text/plain": [
       "[4, 8, 12]"
      ]
     },
     "execution_count": 63,
     "metadata": {},
     "output_type": "execute_result"
    }
   ],
   "source": [
    "kasur = [(i*2) for i in range(2,8) if i%2 == 0]\n",
    "kasur"
   ]
  },
  {
   "cell_type": "code",
   "execution_count": 67,
   "metadata": {},
   "outputs": [
    {
     "data": {
      "text/plain": [
       "[2, '3 angka ganjil', 4, '5 angka ganjil', 6, '7 angka ganjil']"
      ]
     },
     "execution_count": 67,
     "metadata": {},
     "output_type": "execute_result"
    }
   ],
   "source": [
    "kasur1 = [i if i%2 == 0 else f\"{i} angka ganjil\" for i in range(2,8) ]\n",
    "kasur1"
   ]
  },
  {
   "cell_type": "code",
   "execution_count": 71,
   "metadata": {},
   "outputs": [
    {
     "data": {
      "text/plain": [
       "[2, '3 ganjil brow', 4, '5 ganjil brow', 6, '7 ganjil brow']"
      ]
     },
     "execution_count": 71,
     "metadata": {},
     "output_type": "execute_result"
    }
   ],
   "source": [
    "lk = []\n",
    "\n",
    "for i in range(2,8):\n",
    "    if i%2 == 0:\n",
    "        lk.append(i)\n",
    "    else:\n",
    "        lk.append(f\"{i} ganjil brow\")\n",
    "lk"
   ]
  },
  {
   "cell_type": "code",
   "execution_count": null,
   "metadata": {},
   "outputs": [],
   "source": []
  }
 ],
 "metadata": {
  "kernelspec": {
   "display_name": "Python 3",
   "language": "python",
   "name": "python3"
  },
  "language_info": {
   "codemirror_mode": {
    "name": "ipython",
    "version": 3
   },
   "file_extension": ".py",
   "mimetype": "text/x-python",
   "name": "python",
   "nbconvert_exporter": "python",
   "pygments_lexer": "ipython3",
   "version": "3.8.3"
  }
 },
 "nbformat": 4,
 "nbformat_minor": 4
}
