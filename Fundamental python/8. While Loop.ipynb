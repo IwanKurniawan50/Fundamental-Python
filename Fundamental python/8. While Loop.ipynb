{
 "cells": [
  {
   "cell_type": "markdown",
   "metadata": {},
   "source": [
    "# 1. While Loop"
   ]
  },
  {
   "cell_type": "markdown",
   "metadata": {},
   "source": [
    "#### Selama syaratnya memenuhi, akan terus di ekseskusi / di ulang"
   ]
  },
  {
   "cell_type": "raw",
   "metadata": {},
   "source": [
    "3 argumen yang sering digunakan:\n",
    "\n",
    "- break -> menghentikan looping\n",
    "- continue -> melanjutkan looping ke iterator selanjutnya dan melewati iterator saat ini\n",
    "- pass -> tidak melakukan apa-apa"
   ]
  },
  {
   "cell_type": "code",
   "execution_count": 1,
   "metadata": {},
   "outputs": [
    {
     "name": "stdout",
     "output_type": "stream",
     "text": [
      "cool\n",
      "cool\n",
      "cool\n",
      "cool\n"
     ]
    }
   ],
   "source": [
    "indeks = 0\n",
    "\n",
    "while True:\n",
    "    print(\"cool\")\n",
    "    indeks += 1\n",
    "    if indeks == 4:\n",
    "        break"
   ]
  },
  {
   "cell_type": "code",
   "execution_count": 1,
   "metadata": {},
   "outputs": [
    {
     "name": "stdout",
     "output_type": "stream",
     "text": [
      "1\n",
      "2\n",
      "3\n",
      "4\n",
      "5\n",
      "stop\n"
     ]
    }
   ],
   "source": [
    "num = 1\n",
    "\n",
    "while (num <= 5): # selama num lebih kecil samadengan 5\n",
    "    print(num)    # cetak num\n",
    "    num += 1      # num ditambah 1\n",
    "    \n",
    "print(\"stop\")     # ketika fungsi while sudah selesai, akan cetak stop"
   ]
  },
  {
   "cell_type": "code",
   "execution_count": 2,
   "metadata": {},
   "outputs": [
    {
     "name": "stdout",
     "output_type": "stream",
     "text": [
      "14 10 6 2 -2 -6 -10 -14 "
     ]
    }
   ],
   "source": [
    "angka = 14\n",
    "\n",
    "while angka >= -16:         # selama angka >= -16\n",
    "    print(angka, end = \" \") # cetak angka,   end (setiap akhir print akan di batasi dengan tanda)\n",
    "    angka -= 4              # angka di kurang 4"
   ]
  },
  {
   "cell_type": "code",
   "execution_count": 3,
   "metadata": {},
   "outputs": [
    {
     "name": "stdout",
     "output_type": "stream",
     "text": [
      "3,5\n",
      "5,7\n",
      "7,9\n",
      "9,11\n",
      "11,13\n",
      "13,15\n",
      "15,17\n"
     ]
    }
   ],
   "source": [
    "nomor = 3\n",
    "\n",
    "while nomor <= 15:           # selama nomor <= 15\n",
    "    print(nomor, end = \",\")  # cetak nomor dan cetak ,\n",
    "    nomor += 2               # nomor ditambah 2\n",
    "    print(nomor)             # cetak lagi nomor\n",
    "                             # lalu ulangi dari atas"
   ]
  },
  {
   "cell_type": "code",
   "execution_count": 5,
   "metadata": {},
   "outputs": [
    {
     "name": "stdout",
     "output_type": "stream",
     "text": [
      "1 * 3 = 3\n",
      "2 * 3 = 6\n",
      "3 * 3 = 9\n",
      "4 * 3 = 12\n",
      "5 * 3 = 15\n",
      "6 * 3 = 18\n",
      "7 * 3 = 21\n"
     ]
    }
   ],
   "source": [
    "a = 1\n",
    "b = 3\n",
    "\n",
    "while a <= 7:\n",
    "    print(f\"{a} * {b} = {a*b}\")\n",
    "    a += 1\n",
    "    "
   ]
  },
  {
   "cell_type": "markdown",
   "metadata": {},
   "source": [
    "## Percobaan"
   ]
  },
  {
   "cell_type": "code",
   "execution_count": 10,
   "metadata": {},
   "outputs": [
    {
     "name": "stdout",
     "output_type": "stream",
     "text": [
      "Masukkan nilai : 435\n",
      "COBA LAGI! : 54\n",
      "COBA LAGI! : 78\n",
      "Anda melakukan pengulangan sebanyak 2\n"
     ]
    }
   ],
   "source": [
    "percobaan = 0                             # membuat variabel kosong\n",
    "nilai = int(input(\"Masukkan nilai : \"))   # meminta input user, nilai bertipe data integer\n",
    "\n",
    "while nilai != 78:                      # selama nilai tidak sama dengan 78\n",
    "    nilai = int(input(\"COBA LAGI! : \")) # meminta input user kembali\n",
    "    percobaan += 1                      # variabel percobaan ditambah 1\n",
    "    \n",
    "print(\"Anda melakukan pengulangan sebanyak\", percobaan) # jika while sudah selesai akan cetak object"
   ]
  },
  {
   "cell_type": "markdown",
   "metadata": {},
   "source": [
    "## Bilangan Ganjil Genap\n"
   ]
  },
  {
   "cell_type": "code",
   "execution_count": 7,
   "metadata": {},
   "outputs": [
    {
     "name": "stdout",
     "output_type": "stream",
     "text": [
      "0 Merupakan bilangan Genap\n",
      "1 Merupakan bilangan Ganjil\n",
      "2 Merupakan bilangan Genap\n",
      "3 Merupakan bilangan Ganjil\n",
      "4 Merupakan bilangan Genap\n",
      "5 Merupakan bilangan Ganjil\n",
      "6 Merupakan bilangan Genap\n",
      "7 Merupakan bilangan Ganjil\n",
      "8 Merupakan bilangan Genap\n",
      "9 Merupakan bilangan Ganjil\n",
      "10 Merupakan bilangan Genap\n"
     ]
    }
   ],
   "source": [
    "x = 0\n",
    "\n",
    "while x <= 10:            # selama variabel x <= 10\n",
    "    if x % 2 == 0:        # jika x dibagi 2 hasilnya 0\n",
    "        print(x, \"Merupakan bilangan Genap\") \n",
    "    else:\n",
    "        print(x, \"Merupakan bilangan Ganjil\")\n",
    "    x += 1"
   ]
  },
  {
   "cell_type": "code",
   "execution_count": null,
   "metadata": {},
   "outputs": [],
   "source": []
  }
 ],
 "metadata": {
  "kernelspec": {
   "display_name": "Python 3",
   "language": "python",
   "name": "python3"
  },
  "language_info": {
   "codemirror_mode": {
    "name": "ipython",
    "version": 3
   },
   "file_extension": ".py",
   "mimetype": "text/x-python",
   "name": "python",
   "nbconvert_exporter": "python",
   "pygments_lexer": "ipython3",
   "version": "3.8.3"
  }
 },
 "nbformat": 4,
 "nbformat_minor": 4
}
