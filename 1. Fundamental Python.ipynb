{
 "cells": [
  {
   "cell_type": "markdown",
   "metadata": {},
   "source": [
    "# Python Fundamental"
   ]
  },
  {
   "cell_type": "code",
   "execution_count": 19,
   "metadata": {},
   "outputs": [
    {
     "name": "stdout",
     "output_type": "stream",
     "text": [
      "Hello World\n"
     ]
    }
   ],
   "source": [
    "print(\"Hello World\") # fungsi print --> menampilkan objek"
   ]
  },
  {
   "cell_type": "markdown",
   "metadata": {},
   "source": [
    "## Variabel"
   ]
  },
  {
   "cell_type": "code",
   "execution_count": 23,
   "metadata": {},
   "outputs": [],
   "source": [
    "nama = \"Rahwana\" # variabel string memerlukan tanda petik\n",
    "usia = 21        # angka tidak perlu menggunakan tanda petik\n",
    "pendekar = True  "
   ]
  },
  {
   "cell_type": "code",
   "execution_count": 24,
   "metadata": {},
   "outputs": [
    {
     "name": "stdout",
     "output_type": "stream",
     "text": [
      "Rahwana\n",
      "21\n",
      "True\n"
     ]
    }
   ],
   "source": [
    "print(nama)      # akan menampilkan isi dari variabel nama\n",
    "print(usia)      # akan menampilkan isi dari variabel usia\n",
    "print(pendekar)  # akan menampilkan isi dari variabel pendekar"
   ]
  },
  {
   "cell_type": "markdown",
   "metadata": {},
   "source": [
    "## Data Type"
   ]
  },
  {
   "cell_type": "markdown",
   "metadata": {},
   "source": [
    "#### Mengetahui tipe data dari variabel"
   ]
  },
  {
   "cell_type": "code",
   "execution_count": 22,
   "metadata": {},
   "outputs": [
    {
     "name": "stdout",
     "output_type": "stream",
     "text": [
      "<class 'str'>\n",
      "<class 'int'>\n",
      "<class 'bool'>\n"
     ]
    }
   ],
   "source": [
    "print(type(nama))    # akan menampilkan tipe data dari variabel nama\n",
    "print(type(usia))\n",
    "print(type(pendekar))"
   ]
  },
  {
   "cell_type": "markdown",
   "metadata": {},
   "source": [
    "## Input"
   ]
  },
  {
   "cell_type": "markdown",
   "metadata": {},
   "source": [
    "#### Input mempunyai fungsi untuk mendapatkan feedback dari user"
   ]
  },
  {
   "cell_type": "code",
   "execution_count": 1,
   "metadata": {},
   "outputs": [
    {
     "name": "stdout",
     "output_type": "stream",
     "text": [
      "wani piro? 23\n",
      "23\n"
     ]
    }
   ],
   "source": [
    "question = input(\"wani piro? \") # input akan menghasilkan tipe data string\n",
    "print(question)                 # walaupun di isi dengan angka, tipe data nya berbentuk string"
   ]
  },
  {
   "cell_type": "code",
   "execution_count": 2,
   "metadata": {},
   "outputs": [
    {
     "name": "stdout",
     "output_type": "stream",
     "text": [
      "punya duit berapa?34\n",
      "34\n"
     ]
    }
   ],
   "source": [
    "utang = int(input(\"punya duit berapa?\"))  # bisa berbentuk int, dengan menambahkan \"int\" sebelum \"input\"\n",
    "\n",
    "print(utang)"
   ]
  },
  {
   "cell_type": "code",
   "execution_count": 3,
   "metadata": {},
   "outputs": [
    {
     "name": "stdout",
     "output_type": "stream",
     "text": [
      "<class 'int'>\n"
     ]
    }
   ],
   "source": [
    "print(type(utang))"
   ]
  },
  {
   "cell_type": "markdown",
   "metadata": {},
   "source": [
    "## Solve it!"
   ]
  },
  {
   "cell_type": "code",
   "execution_count": 4,
   "metadata": {},
   "outputs": [
    {
     "name": "stdout",
     "output_type": "stream",
     "text": [
      "Siapa nama kamu? Arjuna\n",
      "Berapa usia kamu? 24\n",
      "Apa jenis kelamin kamu? Pria\n",
      "Apa pekerjaan kamu? Dosen\n",
      "Nama:  Arjuna\n",
      "Umur:  24\n",
      "Kelamin:  Pria\n",
      "Pekerjaan:  Dosen\n"
     ]
    }
   ],
   "source": [
    "Nama = input(\"Siapa nama kamu? \")\n",
    "Umur = int(input(\"Berapa usia kamu? \"))\n",
    "Gender = input(\"Apa jenis kelamin kamu? \")\n",
    "Job = input(\"Apa pekerjaan kamu? \")\n",
    "\n",
    "print(\"Nama: \",Nama)\n",
    "print(\"Umur: \",Umur)\n",
    "print(\"Kelamin: \",Gender)\n",
    "print(\"Pekerjaan: \",Job)\n"
   ]
  },
  {
   "cell_type": "markdown",
   "metadata": {},
   "source": [
    "# Math Library"
   ]
  },
  {
   "cell_type": "markdown",
   "metadata": {},
   "source": [
    "#### Python memiliki library Matematika"
   ]
  },
  {
   "cell_type": "code",
   "execution_count": 18,
   "metadata": {},
   "outputs": [
    {
     "name": "stdout",
     "output_type": "stream",
     "text": [
      "3.141592653589793\n",
      "4.7\n",
      "64.0\n",
      "8.0\n"
     ]
    }
   ],
   "source": [
    "import math\n",
    "\n",
    "print(math.pi)         # bilangan pi (22/7)\n",
    "print(math.fabs(-4.7)) # nilai absolute (menjadikan nilai negatif -> positif)\n",
    "print(math.pow(8, 2))  # power (sama seperti pangkat)\n",
    "print(math.sqrt(64))   # mencari nilai akar"
   ]
  },
  {
   "cell_type": "code",
   "execution_count": 27,
   "metadata": {},
   "outputs": [
    {
     "name": "stdout",
     "output_type": "stream",
     "text": [
      "5\n",
      "4\n",
      "4\n",
      "5\n"
     ]
    }
   ],
   "source": [
    "print(round(4.7))      # pembulatan (>5 ke atas) #BILANGAN GANJIL DI GENAPKAN KE ATAS #GENAP -> BAWAH\n",
    "print(round(4.4))      # pembulatan (< 5 kebawah)\n",
    "print(math.floor(4.7)) # pembulatan ke bawah\n",
    "print(math.ceil(4.4))  # pembulatan ke atas"
   ]
  },
  {
   "cell_type": "code",
   "execution_count": 28,
   "metadata": {},
   "outputs": [
    {
     "name": "stdout",
     "output_type": "stream",
     "text": [
      "10\n",
      "5\n",
      "['Halo', 'Dunia']\n",
      "halo dunia\n",
      "HALO DUNIA\n",
      "Halo dunia\n"
     ]
    }
   ],
   "source": [
    "x = 'Halo Dunia'\n",
    "\n",
    "print(len(x))            # panjang sebuah karakter\n",
    "print(x.index('Dunia'))  # index dimulai dari angka 0\n",
    "print(x.split(' '))      # akan memisahkan setiap karakter, hasilnya dalam bentuk list\n",
    "print(x.lower())         # menjadikan semua karakter ke bentuk lower\n",
    "print(x.upper())         # menjadikan semua karakter ke bentuk upper\n",
    "print(x.capitalize())    # menjadikan setiap awal karakter ke bentuk capitalize"
   ]
  },
  {
   "cell_type": "markdown",
   "metadata": {},
   "source": [
    "## String Indexing"
   ]
  },
  {
   "cell_type": "markdown",
   "metadata": {},
   "source": [
    "#### Index dimulai dari angka 0"
   ]
  },
  {
   "cell_type": "code",
   "execution_count": 4,
   "metadata": {},
   "outputs": [
    {
     "name": "stdout",
     "output_type": "stream",
     "text": [
      "'\n",
      "m Baron, nice to meet you\n",
      "I'm \n",
      "m B\n",
      "I'm Baron, nice to meet you\n"
     ]
    }
   ],
   "source": [
    "text = \"I'm Baron, nice to meet you\"\n",
    "\n",
    "print(text[1])   # index ke 1\n",
    "print(text[2:])  # mengambil dari index ke 2 sampai akhir\n",
    "print(text[:4])  # index awal sampai ke (4-1)\n",
    "print(text[2:5]) # index 2 sampai ke (5-1)\n",
    "print(text[:])"
   ]
  },
  {
   "cell_type": "markdown",
   "metadata": {},
   "source": [
    "## Solve it!"
   ]
  },
  {
   "cell_type": "code",
   "execution_count": 10,
   "metadata": {},
   "outputs": [
    {
     "name": "stdout",
     "output_type": "stream",
     "text": [
      "0.6944444444444445\n"
     ]
    }
   ],
   "source": [
    "x = 4\n",
    "y = 3\n",
    "z = 2\n",
    "\n",
    "w = ((x+y*z)/(x*y))**z\n",
    "print(w)"
   ]
  },
  {
   "cell_type": "markdown",
   "metadata": {},
   "source": [
    "## Solve it!"
   ]
  },
  {
   "cell_type": "code",
   "execution_count": 17,
   "metadata": {},
   "outputs": [
    {
     "name": "stdout",
     "output_type": "stream",
     "text": [
      "Silahkan masukkan angka berapapun: 4\n",
      "Kuadrat dari  4 = 16\n"
     ]
    }
   ],
   "source": [
    "Angka = int(input(\"Silahkan masukkan angka berapapun: \"))\n",
    "\n",
    "print(\"Kuadrat dari \", Angka, \"=\", Angka*Angka)"
   ]
  }
 ],
 "metadata": {
  "kernelspec": {
   "display_name": "Python 3",
   "language": "python",
   "name": "python3"
  },
  "language_info": {
   "codemirror_mode": {
    "name": "ipython",
    "version": 3
   },
   "file_extension": ".py",
   "mimetype": "text/x-python",
   "name": "python",
   "nbconvert_exporter": "python",
   "pygments_lexer": "ipython3",
   "version": "3.8.3"
  }
 },
 "nbformat": 4,
 "nbformat_minor": 4
}
