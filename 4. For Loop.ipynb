{
 "cells": [
  {
   "cell_type": "markdown",
   "metadata": {},
   "source": [
    "# For Loop"
   ]
  },
  {
   "cell_type": "markdown",
   "metadata": {},
   "source": [
    "#### Variabel untuk (for) umumnya bersifat list"
   ]
  },
  {
   "cell_type": "code",
   "execution_count": 2,
   "metadata": {},
   "outputs": [
    {
     "name": "stdout",
     "output_type": "stream",
     "text": [
      "[0, 1, 2, 3, 4, 5, 6, 7, 8, 9]\n"
     ]
    }
   ],
   "source": [
    "list1 = list(range(10)) # list index dimulai dari 0\n",
    "\n",
    "print(list1)"
   ]
  },
  {
   "cell_type": "code",
   "execution_count": 3,
   "metadata": {},
   "outputs": [
    {
     "name": "stdout",
     "output_type": "stream",
     "text": [
      "[1, 2, 3, 4, 5, 6, 7, 8, 9]\n"
     ]
    }
   ],
   "source": [
    "list2 = list(range(1,10)) # start - stop\n",
    "\n",
    "print(list2)"
   ]
  },
  {
   "cell_type": "code",
   "execution_count": 5,
   "metadata": {},
   "outputs": [
    {
     "name": "stdout",
     "output_type": "stream",
     "text": [
      "[1, 3, 5, 7, 9]\n"
     ]
    }
   ],
   "source": [
    "list3 = list(range(1,10,2)) # start - stop - space\n",
    "                            # isi variabel list3 bertipe data list dengan range 1-10 dan space 2\n",
    "print(list3)                # akan mencetak isi di vaiabel list3"
   ]
  },
  {
   "cell_type": "markdown",
   "metadata": {},
   "source": [
    "#### Fungsi Looping"
   ]
  },
  {
   "cell_type": "code",
   "execution_count": 8,
   "metadata": {},
   "outputs": [
    {
     "name": "stdout",
     "output_type": "stream",
     "text": [
      "0\n",
      "1\n",
      "2\n",
      "3\n",
      "4\n"
     ]
    }
   ],
   "source": [
    "list4 = list(range(5))  # variabel list4 bertipe data list dengan range 5 (index 0-4)\n",
    "\n",
    "for i in list4:         # fungsi for, akan di cek 1 per 1 yang ada di dalam varibel list4\n",
    "    print(i)"
   ]
  },
  {
   "cell_type": "code",
   "execution_count": 12,
   "metadata": {},
   "outputs": [
    {
     "name": "stdout",
     "output_type": "stream",
     "text": [
      "ini urutan ke 1\n",
      "ini urutan ke 3\n",
      "ini urutan ke 5\n",
      "ini urutan ke 7\n",
      "ini urutan ke 9\n"
     ]
    }
   ],
   "source": [
    "list5 = list(range(1,10,2))\n",
    "\n",
    "for x in list5:\n",
    "    print(f\"ini urutan ke {x}\")"
   ]
  },
  {
   "cell_type": "code",
   "execution_count": 10,
   "metadata": {},
   "outputs": [
    {
     "name": "stdout",
     "output_type": "stream",
     "text": [
      "6\n",
      "5\n",
      "4\n",
      "3\n",
      "2\n"
     ]
    }
   ],
   "source": [
    "list6 = list(range(6,1,-1))\n",
    "\n",
    "for y in list6:\n",
    "    print(y)"
   ]
  },
  {
   "cell_type": "code",
   "execution_count": 21,
   "metadata": {},
   "outputs": [
    {
     "name": "stdout",
     "output_type": "stream",
     "text": [
      "sekarang ada di angka 0\n",
      "lanjutttttt\n",
      "sekarang ada di angka 1\n",
      "lanjutttttt\n",
      "sekarang ada di angka 2\n",
      "lanjutttttt\n",
      "sekarang ada di angka 3\n",
      "lanjutttttt\n",
      "sekarang ada di angka 4\n",
      "ketemu deeeeh\n",
      "percobaan sebanyak 5 kali\n"
     ]
    }
   ],
   "source": [
    "number = 4                # membuat variabel integer 4\n",
    "\n",
    "for i in range(212):      # ulangi i di range 212\n",
    "    print(f\"sekarang ada di angka {i}\") # cetak objek dan i (berarti dimulai dari 0 sampai 211)\n",
    "    percobaan = i + 1     # membuat variabel percobaan, dengan isi i ditambah 1\n",
    "    \n",
    "    if i == number:             # jika i sama dengan number\n",
    "        print(\"ketemu deeeeh\")  # print objek\n",
    "        print(f\"percobaan sebanyak {percobaan} kali\") # cetak objek  \n",
    "        break                   # jika kondisi di eksekusi lakukan break (berhenti)\n",
    "    else:                       # jika kondisi false\n",
    "        print(\"lanjutttttt\")    # print objek "
   ]
  },
  {
   "cell_type": "markdown",
   "metadata": {},
   "source": [
    "# Nested Loop"
   ]
  },
  {
   "cell_type": "code",
   "execution_count": 23,
   "metadata": {},
   "outputs": [
    {
     "name": "stdout",
     "output_type": "stream",
     "text": [
      "1 2  \n",
      "3 4  \n",
      "5 6  \n"
     ]
    }
   ],
   "source": [
    "love = 1\n",
    "\n",
    "for i in range(3):\n",
    "    for j in range(2):\n",
    "        print(love, end = \" \")\n",
    "        love += 1\n",
    "        \n",
    "    print(\" \")"
   ]
  }
 ],
 "metadata": {
  "kernelspec": {
   "display_name": "Python 3",
   "language": "python",
   "name": "python3"
  },
  "language_info": {
   "codemirror_mode": {
    "name": "ipython",
    "version": 3
   },
   "file_extension": ".py",
   "mimetype": "text/x-python",
   "name": "python",
   "nbconvert_exporter": "python",
   "pygments_lexer": "ipython3",
   "version": "3.8.3"
  }
 },
 "nbformat": 4,
 "nbformat_minor": 4
}
